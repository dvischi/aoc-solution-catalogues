{
 "cells": [
  {
   "cell_type": "markdown",
   "id": "81358d21",
   "metadata": {},
   "source": [
    "# AOC2022"
   ]
  },
  {
   "cell_type": "markdown",
   "id": "9d447890",
   "metadata": {},
   "source": [
    "## Day 14 / Part 1 / Regolith Reservoir"
   ]
  },
  {
   "cell_type": "markdown",
   "id": "32aaf5c6",
   "metadata": {},
   "source": [
    "Problem Description: https://adventofcode.com/2022/day/14\n",
    "\n",
    "Input: [Example](aoc2022_day14_example.txt)"
   ]
  },
  {
   "cell_type": "code",
   "execution_count": 1,
   "id": "ff5a18ba",
   "metadata": {},
   "outputs": [],
   "source": [
    "%load_ext pycodestyle_magic\n",
    "%pycodestyle_on"
   ]
  },
  {
   "cell_type": "code",
   "execution_count": 2,
   "id": "1f554f05",
   "metadata": {},
   "outputs": [],
   "source": [
    "\"\"\"Solution for AOC2022, day 14, part 1.\"\"\"\n",
    "import logging\n",
    "import sys\n",
    "import matplotlib.pyplot as plt\n",
    "import numpy as np\n",
    "\n",
    "LOGGER = logging.getLogger(__name__)\n",
    "plt.rcParams[\"figure.figsize\"] = [2, 2]\n",
    "\n",
    "# show/hide overview\n",
    "SHOW_OVERVIEW = True\n",
    "# show/hide debug logs\n",
    "SHOW_DEBUG_LOG = False\n",
    "# set input file\n",
    "INPUT_FILE = \"aoc2022_day14_example.txt\""
   ]
  },
  {
   "cell_type": "code",
   "execution_count": 3,
   "id": "7eabf02b",
   "metadata": {},
   "outputs": [],
   "source": [
    "SAND_SRC = (0, 500)"
   ]
  },
  {
   "cell_type": "code",
   "execution_count": 4,
   "id": "fb9d30fd",
   "metadata": {},
   "outputs": [],
   "source": [
    "def calc_sand_units(cave, y_pos, x_pos):\n",
    "    \"\"\"\n",
    "    Calculate units of sand in a cave produced by a source at (y_pos, x_pos).\n",
    "\n",
    "    Side-effect: adds the sand units to the cave map.\n",
    "    \"\"\"\n",
    "    LOGGER.debug(\n",
    "        \"  simulate falling sand with source (%s, %s)...\", y_pos, x_pos\n",
    "    )\n",
    "    try:\n",
    "        return _calc_sand_units(cave, y_pos, x_pos)\n",
    "    except RecursionError as ex:\n",
    "        return ex.args[0]\n",
    "\n",
    "\n",
    "def _calc_sand_units(cave, y_pos, x_pos):\n",
    "    \"\"\"Helper function for calc_sand_units(cave, y_pos, x_pos).\"\"\"\n",
    "    units = 0\n",
    "    try:\n",
    "        if cave[y_pos+1, x_pos] == 0:\n",
    "            units += _calc_sand_units(cave, y_pos+1, x_pos)\n",
    "        if cave[y_pos+1, x_pos-1] == 0:\n",
    "            units += _calc_sand_units(cave, y_pos+1, x_pos-1)\n",
    "        if cave[y_pos+1, x_pos+1] == 0:\n",
    "            units += _calc_sand_units(cave, y_pos+1, x_pos+1)\n",
    "    except (RecursionError, IndexError) as ex:\n",
    "        if isinstance(ex, IndexError):\n",
    "            # sand unit falls bellow cave boundary\n",
    "            raise RecursionError(units) from ex\n",
    "        raise RecursionError(int(ex.args[0]) + units) from ex\n",
    "\n",
    "    cave[y_pos, x_pos] = 2\n",
    "\n",
    "    LOGGER.debug(\"    unit of sand rests at (%s, %s)\", y_pos, x_pos)\n",
    "    return units + 1"
   ]
  },
  {
   "cell_type": "code",
   "execution_count": 5,
   "id": "25a54efe",
   "metadata": {},
   "outputs": [],
   "source": [
    "def main():\n",
    "    \"\"\"Main function to solve puzzle.\"\"\"\n",
    "    min_y, max_y = np.inf, 0\n",
    "    min_x, max_x = np.inf, 0\n",
    "    struct_paths = []\n",
    "    with open(INPUT_FILE, encoding=\"utf-8\") as file_obj:\n",
    "        for line in [\n",
    "            line.rstrip() for line in file_obj.readlines()\n",
    "        ] + [\n",
    "            str(SAND_SRC[1]) + \",\" + str(SAND_SRC[0])\n",
    "        ]:\n",
    "            struct_path = []\n",
    "            for x_pos, y_pos in [\n",
    "                coords.split(\",\") for coords in line.split(\" -> \")\n",
    "            ]:\n",
    "                y_pos, x_pos = int(y_pos), int(x_pos)\n",
    "                min_y, max_y = min(y_pos, min_y), max(y_pos, max_y)\n",
    "                min_x, max_x = min(x_pos, min_x), max(x_pos, max_x)\n",
    "                struct_path.append([y_pos, x_pos])\n",
    "            struct_paths.append(struct_path)\n",
    "\n",
    "    cave = np.zeros((max_y - min_y + 1, max_x - min_x + 1))\n",
    "\n",
    "    for struct_path in struct_paths:\n",
    "        for coords_idx in range(len(struct_path) - 1):\n",
    "            y_poss, x_poss = zip(\n",
    "                struct_path[coords_idx], struct_path[coords_idx + 1]\n",
    "            )\n",
    "            y_poss = list(map(lambda y_pos: y_pos - min_y, y_poss))\n",
    "            x_poss = list(map(lambda x_pos: x_pos - min_x, x_poss))\n",
    "            cave[min(y_poss):max(y_poss)+1, min(x_poss):max(x_poss)+1] = 1\n",
    "\n",
    "    units = calc_sand_units(cave, SAND_SRC[0] - min_y, SAND_SRC[1] - min_x)\n",
    "\n",
    "    LOGGER.debug(\"\")\n",
    "\n",
    "    if SHOW_OVERVIEW:\n",
    "        print(\"overview:\")\n",
    "        plt.imshow(cave)\n",
    "        plt.ylabel(\" \")\n",
    "        plt.show()\n",
    "\n",
    "    print(f\"solution: {units}\")"
   ]
  },
  {
   "cell_type": "code",
   "execution_count": 6,
   "id": "0944e380",
   "metadata": {},
   "outputs": [
    {
     "name": "stdout",
     "output_type": "stream",
     "text": [
      "overview:\n"
     ]
    },
    {
     "data": {
      "image/png": "[encoded data removed]",
      "text/plain": [
       "<Figure size 200x200 with 1 Axes>"
      ]
     },
     "metadata": {},
     "output_type": "display_data"
    },
    {
     "name": "stdout",
     "output_type": "stream",
     "text": [
      "solution: 24\n"
     ]
    }
   ],
   "source": [
    "if __name__ == \"__main__\":\n",
    "    LOGGER.setLevel(logging.DEBUG if SHOW_DEBUG_LOG else logging.INFO)\n",
    "    log_formatter = logging.Formatter(\"%(message)s\")\n",
    "    log_handler = logging.StreamHandler(sys.stdout)\n",
    "    log_handler.setFormatter(log_formatter)\n",
    "    LOGGER.addHandler(log_handler)\n",
    "    main()"
   ]
  }
 ],
 "metadata": {
  "kernelspec": {
   "display_name": "Python 3 (ipykernel)",
   "language": "python",
   "name": "python3"
  },
  "language_info": {
   "codemirror_mode": {
    "name": "ipython",
    "version": 3
   },
   "file_extension": ".py",
   "mimetype": "text/x-python",
   "name": "python",
   "nbconvert_exporter": "python",
   "pygments_lexer": "ipython3",
   "version": "3.9.5"
  }
 },
 "nbformat": 4,
 "nbformat_minor": 5
}
