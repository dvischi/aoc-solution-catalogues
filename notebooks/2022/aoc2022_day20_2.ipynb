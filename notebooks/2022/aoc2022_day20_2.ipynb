{
 "cells": [
  {
   "cell_type": "markdown",
   "id": "81358d21",
   "metadata": {},
   "source": [
    "# AOC2022"
   ]
  },
  {
   "cell_type": "markdown",
   "id": "9d447890",
   "metadata": {},
   "source": [
    "## Day 20 / Part 2 / Grove Positioning System "
   ]
  },
  {
   "cell_type": "markdown",
   "id": "32aaf5c6",
   "metadata": {},
   "source": [
    "Problem Description: https://adventofcode.com/2022/day/20#part2\n",
    "\n",
    "Input: [Example](aoc2022_day20_example.txt)"
   ]
  },
  {
   "cell_type": "code",
   "execution_count": 1,
   "id": "b67c1ba6",
   "metadata": {},
   "outputs": [],
   "source": [
    "%load_ext pycodestyle_magic\n",
    "%pycodestyle_on"
   ]
  },
  {
   "cell_type": "code",
   "execution_count": 2,
   "id": "e0bf37a0",
   "metadata": {},
   "outputs": [],
   "source": [
    "\"\"\"Solution for AOC2022, day 20, part 2.\"\"\"\n",
    "import logging\n",
    "import sys\n",
    "\n",
    "LOGGER = logging.getLogger(__name__)\n",
    "\n",
    "# show/hide debug logs\n",
    "SHOW_DEBUG_LOG = False\n",
    "# set input file\n",
    "INPUT_FILE = \"aoc2022_day20_example.txt\""
   ]
  },
  {
   "cell_type": "code",
   "execution_count": 3,
   "id": "5683b561",
   "metadata": {},
   "outputs": [],
   "source": [
    "class Number():\n",
    "    \"\"\"\n",
    "    A number in a confidential file stored on an Elf's handheld.\n",
    "    \"\"\"\n",
    "    value = None\n",
    "\n",
    "    def __init__(self, value):\n",
    "        self.value = value\n",
    "\n",
    "    def __str__(self):\n",
    "        return str(self.value)\n",
    "\n",
    "    def __repr__(self):\n",
    "        return repr(self.value)"
   ]
  },
  {
   "cell_type": "code",
   "execution_count": 4,
   "id": "a9324d17",
   "metadata": {},
   "outputs": [],
   "source": [
    "def mixing(numbers, rounds):\n",
    "    \"\"\"\n",
    "    The main operation involved in decrypting a confidential file.\n",
    "    \"\"\"\n",
    "    LOGGER.debug(\"apply mixing...\")\n",
    "\n",
    "    for number in numbers:\n",
    "        if numbers.count(number) > 1:\n",
    "            raise ValueError(f\"multiple numbers found! {number}\")\n",
    "\n",
    "    original_numbers = numbers.copy()\n",
    "    for round_idx in range(rounds):\n",
    "        LOGGER.debug(\"  round %s...\", round_idx+1)\n",
    "        for number in original_numbers:\n",
    "            if number.value == 0:\n",
    "                continue\n",
    "\n",
    "            # check for references instead of values\n",
    "            # (which may exists multiple times!)\n",
    "            number_idx = numbers.index(number)\n",
    "            numbers.pop(number_idx)\n",
    "\n",
    "            numbers = (\n",
    "                numbers[:(number_idx+number.value) % len(numbers)] +\n",
    "                [number] +\n",
    "                numbers[(number_idx+number.value) % len(numbers):]\n",
    "            )\n",
    "\n",
    "            LOGGER.debug(\n",
    "                \"    arrangement after moving %s: %s\", number, numbers\n",
    "            )\n",
    "    return numbers"
   ]
  },
  {
   "cell_type": "code",
   "execution_count": 5,
   "id": "78a680e2",
   "metadata": {},
   "outputs": [],
   "source": [
    "DECRYPTION_KEY = 811589153\n",
    "\n",
    "\n",
    "def main():\n",
    "    \"\"\"Main function to solve puzzle.\"\"\"\n",
    "    numbers = []\n",
    "    number_zero = None\n",
    "    with open(INPUT_FILE, encoding=\"utf-8\") as file_obj:\n",
    "        for line in [line.rstrip() for line in file_obj.readlines()]:\n",
    "            number = Number(int(line) * DECRYPTION_KEY)\n",
    "            numbers.append(number)\n",
    "            if number.value == 0:\n",
    "                number_zero = number\n",
    "\n",
    "    LOGGER.debug(\"initial arrangement: %s\\n\", numbers)\n",
    "\n",
    "    numbers = mixing(numbers, rounds=10)\n",
    "\n",
    "    LOGGER.debug(\"\")\n",
    "\n",
    "    zero_idx = numbers.index(number_zero)\n",
    "    solution = (\n",
    "        numbers[(zero_idx + 1000) % len(numbers)].value +\n",
    "        numbers[(zero_idx + 2000) % len(numbers)].value +\n",
    "        numbers[(zero_idx + 3000) % len(numbers)].value\n",
    "    )\n",
    "\n",
    "    print(f\"solution: {solution}\")"
   ]
  },
  {
   "cell_type": "code",
   "execution_count": 6,
   "id": "5d61952f",
   "metadata": {},
   "outputs": [
    {
     "name": "stdout",
     "output_type": "stream",
     "text": [
      "solution: 1623178306\n"
     ]
    }
   ],
   "source": [
    "if __name__ == \"__main__\":\n",
    "    LOGGER.setLevel(logging.DEBUG if SHOW_DEBUG_LOG else logging.INFO)\n",
    "    log_formatter = logging.Formatter(\"%(message)s\")\n",
    "    log_handler = logging.StreamHandler(sys.stdout)\n",
    "    log_handler.setFormatter(log_formatter)\n",
    "    LOGGER.addHandler(log_handler)\n",
    "    main()"
   ]
  }
 ],
 "metadata": {
  "kernelspec": {
   "display_name": "Python 3 (ipykernel)",
   "language": "python",
   "name": "python3"
  },
  "language_info": {
   "codemirror_mode": {
    "name": "ipython",
    "version": 3
   },
   "file_extension": ".py",
   "mimetype": "text/x-python",
   "name": "python",
   "nbconvert_exporter": "python",
   "pygments_lexer": "ipython3",
   "version": "3.9.5"
  }
 },
 "nbformat": 4,
 "nbformat_minor": 5
}
