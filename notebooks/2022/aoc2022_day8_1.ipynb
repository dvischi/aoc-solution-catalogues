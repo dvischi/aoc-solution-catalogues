{
 "cells": [
  {
   "cell_type": "markdown",
   "id": "81358d21",
   "metadata": {},
   "source": [
    "# AOC2022"
   ]
  },
  {
   "cell_type": "markdown",
   "id": "9d447890",
   "metadata": {},
   "source": [
    "## Day 8 / Part 1 / Treetop Tree House"
   ]
  },
  {
   "cell_type": "markdown",
   "id": "32aaf5c6",
   "metadata": {},
   "source": [
    "Problem Description: https://adventofcode.com/2022/day/8\n",
    "\n",
    "Input: [Example](aoc2022_day8_example.txt)"
   ]
  },
  {
   "cell_type": "code",
   "execution_count": 1,
   "id": "1ac1e753",
   "metadata": {},
   "outputs": [],
   "source": [
    "%load_ext pycodestyle_magic\n",
    "%pycodestyle_on"
   ]
  },
  {
   "cell_type": "code",
   "execution_count": 2,
   "id": "1f554f05",
   "metadata": {},
   "outputs": [],
   "source": [
    "\"\"\"Solution for AOC2022, day 8, part 1.\"\"\"\n",
    "import logging\n",
    "import sys\n",
    "import numpy as np\n",
    "\n",
    "LOGGER = logging.getLogger(__name__)\n",
    "\n",
    "# show/hide debug logs\n",
    "SHOW_DEBUG_LOG = False\n",
    "# set input file\n",
    "INPUT_FILE = \"aoc2022_day8_example.txt\""
   ]
  },
  {
   "cell_type": "code",
   "execution_count": 3,
   "id": "55a48095",
   "metadata": {},
   "outputs": [],
   "source": [
    "def find_visible_trees(height_map, looking_from):\n",
    "    \"\"\"\n",
    "    Find visible trees on a hight map looking from\n",
    "    left-to-right, right-to-left, top-to-bottom or bottom-to-top.\n",
    "    \"\"\"\n",
    "    axis1 = {\n",
    "        \"left-to-right\": range(height_map.shape[0]),\n",
    "        \"right-to-left\": range(height_map.shape[0]),\n",
    "        \"top-to-bottom\": range(height_map.shape[1]),\n",
    "        \"bottom-to-top\": range(height_map.shape[1]),\n",
    "    }[looking_from]\n",
    "\n",
    "    axis2 = {\n",
    "        \"left-to-right\": range(height_map.shape[1]),\n",
    "        \"right-to-left\": range(height_map.shape[1]-1, -1, -1),\n",
    "        \"top-to-bottom\": range(height_map.shape[0]),\n",
    "        \"bottom-to-top\": range(height_map.shape[0]-1, -1, -1),\n",
    "    }[looking_from]\n",
    "\n",
    "    visible_trees = set()\n",
    "    for coord1 in axis1:\n",
    "        heighest_tree = 0\n",
    "        for coord2 in axis2:\n",
    "            row, col = (\n",
    "                (coord1, coord2) if \"left\" in looking_from\n",
    "                else (coord2, coord1)\n",
    "            )\n",
    "            if (\n",
    "                row == 0 or row == height_map.shape[0]-1 or\n",
    "                col == 0 or col == height_map.shape[1]-1\n",
    "            ):\n",
    "                # edge trees are always visible\n",
    "                visible_trees.add((row, col))\n",
    "                heighest_tree = height_map[row, col]\n",
    "                continue\n",
    "\n",
    "            if heighest_tree < height_map[row, col]:\n",
    "                # interior tree is visible\n",
    "                visible_trees.add((row, col))\n",
    "                heighest_tree = height_map[row, col]\n",
    "    return visible_trees"
   ]
  },
  {
   "cell_type": "code",
   "execution_count": 4,
   "id": "05557c53",
   "metadata": {},
   "outputs": [],
   "source": [
    "def main():\n",
    "    \"\"\"Main function to solve puzzle.\"\"\"\n",
    "    height_map = []\n",
    "    with open(INPUT_FILE, encoding=\"utf-8\") as file_obj:\n",
    "        for line in map(lambda line: line.strip(), file_obj.readlines()):\n",
    "            height_map.append(list(map(int, line)))\n",
    "\n",
    "    height_map = np.asarray(height_map)\n",
    "\n",
    "    LOGGER.debug(\n",
    "        \"heigh map:\\n\"\n",
    "        \"  %s\\n\",\n",
    "        str(height_map).replace(\"\\n\", \"\\n  \")\n",
    "    )\n",
    "\n",
    "    visible_trees = set()\n",
    "    visible_trees.update(find_visible_trees(height_map, \"left-to-right\"))\n",
    "    visible_trees.update(find_visible_trees(height_map, \"right-to-left\"))\n",
    "    visible_trees.update(find_visible_trees(height_map, \"top-to-bottom\"))\n",
    "    visible_trees.update(find_visible_trees(height_map, \"bottom-to-top\"))\n",
    "\n",
    "    LOGGER.debug(\"visible trees: %s\\n\", visible_trees)\n",
    "\n",
    "    print(f\"solution: {len(visible_trees)}\")"
   ]
  },
  {
   "cell_type": "code",
   "execution_count": 5,
   "id": "75d6bf36",
   "metadata": {},
   "outputs": [
    {
     "name": "stdout",
     "output_type": "stream",
     "text": [
      "solution: 21\n"
     ]
    }
   ],
   "source": [
    "if __name__ == \"__main__\":\n",
    "    LOGGER.setLevel(logging.DEBUG if SHOW_DEBUG_LOG else logging.INFO)\n",
    "    log_formatter = logging.Formatter(\"%(message)s\")\n",
    "    log_handler = logging.StreamHandler(sys.stdout)\n",
    "    log_handler.setFormatter(log_formatter)\n",
    "    LOGGER.addHandler(log_handler)\n",
    "    main()"
   ]
  }
 ],
 "metadata": {
  "kernelspec": {
   "display_name": "Python 3 (ipykernel)",
   "language": "python",
   "name": "python3"
  },
  "language_info": {
   "codemirror_mode": {
    "name": "ipython",
    "version": 3
   },
   "file_extension": ".py",
   "mimetype": "text/x-python",
   "name": "python",
   "nbconvert_exporter": "python",
   "pygments_lexer": "ipython3",
   "version": "3.9.5"
  }
 },
 "nbformat": 4,
 "nbformat_minor": 5
}
