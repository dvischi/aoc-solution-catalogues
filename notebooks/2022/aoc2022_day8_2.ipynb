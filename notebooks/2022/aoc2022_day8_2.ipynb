{
 "cells": [
  {
   "cell_type": "markdown",
   "id": "81358d21",
   "metadata": {},
   "source": [
    "# AOC2022"
   ]
  },
  {
   "cell_type": "markdown",
   "id": "9d447890",
   "metadata": {},
   "source": [
    "## Day 8 / Part 2 / Treetop Tree House"
   ]
  },
  {
   "cell_type": "markdown",
   "id": "32aaf5c6",
   "metadata": {},
   "source": [
    "Problem Description: https://adventofcode.com/2022/day/8#part2\n",
    "\n",
    "Input: [Example](aoc2022_day8_example.txt)"
   ]
  },
  {
   "cell_type": "code",
   "execution_count": 1,
   "id": "ca690ced",
   "metadata": {},
   "outputs": [],
   "source": [
    "%load_ext pycodestyle_magic\n",
    "%pycodestyle_on"
   ]
  },
  {
   "cell_type": "code",
   "execution_count": 2,
   "id": "1f554f05",
   "metadata": {},
   "outputs": [],
   "source": [
    "\"\"\"Solution for AOC2022, day 8, part 2.\"\"\"\n",
    "import logging\n",
    "import sys\n",
    "import numpy as np\n",
    "\n",
    "LOGGER = logging.getLogger(__name__)\n",
    "\n",
    "# show/hide debug logs\n",
    "SHOW_DEBUG_LOG = False\n",
    "# set input file\n",
    "INPUT_FILE = \"aoc2022_day8_example.txt\""
   ]
  },
  {
   "cell_type": "code",
   "execution_count": 3,
   "id": "15cc4127",
   "metadata": {
    "scrolled": true
   },
   "outputs": [],
   "source": [
    "def main():\n",
    "    \"\"\"Main function to solve puzzle.\"\"\"\n",
    "    height_map = []\n",
    "    with open(INPUT_FILE, encoding=\"utf-8\") as file_obj:\n",
    "        for line in map(lambda line: line.strip(), file_obj.readlines()):\n",
    "            height_map.append(list(map(int, line)))\n",
    "\n",
    "    height_map = np.asarray(height_map)\n",
    "\n",
    "    LOGGER.debug(\n",
    "        \"heigh map:\\n\"\n",
    "        \"  %s\\n\",\n",
    "        str(height_map).replace(\"\\n\", \"\\n  \")\n",
    "    )\n",
    "    LOGGER.debug(\"search best scenic score...\")\n",
    "\n",
    "    best_scenic_score = 0\n",
    "    for row in range(height_map.shape[0]):\n",
    "        for col in range(height_map.shape[1]):\n",
    "            scenic_score = [0, 0, 0, 0]\n",
    "\n",
    "            # looking to the left\n",
    "            for height in reversed(height_map[:row, col]):\n",
    "                scenic_score[0] += 1\n",
    "                if height >= height_map[row, col]:\n",
    "                    break\n",
    "\n",
    "            # looking to the right\n",
    "            for height in height_map[row+1:, col]:\n",
    "                scenic_score[1] += 1\n",
    "                if height >= height_map[row, col]:\n",
    "                    break\n",
    "\n",
    "            # looking to the top\n",
    "            for height in reversed(height_map[row, :col]):\n",
    "                scenic_score[2] += 1\n",
    "                if height >= height_map[row, col]:\n",
    "                    break\n",
    "\n",
    "            # looking to the bottom\n",
    "            for height in height_map[row, col+1:]:\n",
    "                scenic_score[3] += 1\n",
    "                if height >= height_map[row, col]:\n",
    "                    break\n",
    "\n",
    "            scenic_score = np.prod(scenic_score)\n",
    "            if scenic_score > best_scenic_score:\n",
    "                LOGGER.debug(\"  [%s, %s] has score %s\", row, col, scenic_score)\n",
    "                best_scenic_score = scenic_score\n",
    "\n",
    "    LOGGER.debug(\"\")\n",
    "\n",
    "    print(f\"solution: {best_scenic_score}\")"
   ]
  },
  {
   "cell_type": "code",
   "execution_count": 4,
   "id": "a9b9334b",
   "metadata": {},
   "outputs": [
    {
     "name": "stdout",
     "output_type": "stream",
     "text": [
      "solution: 8\n"
     ]
    }
   ],
   "source": [
    "if __name__ == \"__main__\":\n",
    "    LOGGER.setLevel(logging.DEBUG if SHOW_DEBUG_LOG else logging.INFO)\n",
    "    log_formatter = logging.Formatter(\"%(message)s\")\n",
    "    log_handler = logging.StreamHandler(sys.stdout)\n",
    "    log_handler.setFormatter(log_formatter)\n",
    "    LOGGER.addHandler(log_handler)\n",
    "    main()"
   ]
  }
 ],
 "metadata": {
  "kernelspec": {
   "display_name": "Python 3 (ipykernel)",
   "language": "python",
   "name": "python3"
  },
  "language_info": {
   "codemirror_mode": {
    "name": "ipython",
    "version": 3
   },
   "file_extension": ".py",
   "mimetype": "text/x-python",
   "name": "python",
   "nbconvert_exporter": "python",
   "pygments_lexer": "ipython3",
   "version": "3.9.5"
  }
 },
 "nbformat": 4,
 "nbformat_minor": 5
}
