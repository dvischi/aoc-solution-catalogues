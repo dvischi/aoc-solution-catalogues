{
 "cells": [
  {
   "cell_type": "markdown",
   "id": "81358d21",
   "metadata": {},
   "source": [
    "# AOC2022"
   ]
  },
  {
   "cell_type": "markdown",
   "id": "9d447890",
   "metadata": {},
   "source": [
    "## Day 2 / Part 1 / Rock Paper Scissors"
   ]
  },
  {
   "cell_type": "markdown",
   "id": "32aaf5c6",
   "metadata": {},
   "source": [
    "Problem Description: https://adventofcode.com/2022/day/2\n",
    "\n",
    "Input: [Example](aoc2022_day2_example.txt)"
   ]
  },
  {
   "cell_type": "code",
   "execution_count": 1,
   "id": "10d3e858",
   "metadata": {},
   "outputs": [],
   "source": [
    "%load_ext pycodestyle_magic\n",
    "%pycodestyle_on"
   ]
  },
  {
   "cell_type": "code",
   "execution_count": 2,
   "id": "1f554f05",
   "metadata": {},
   "outputs": [],
   "source": [
    "\"\"\"Solution for AOC2022, day 2, part 1.\"\"\"\n",
    "import logging\n",
    "import sys\n",
    "\n",
    "LOGGER = logging.getLogger(__name__)\n",
    "\n",
    "# show/hide debug logs\n",
    "SHOW_DEBUG_LOG = False\n",
    "# set input file\n",
    "INPUT_FILE = \"aoc2022_day2_example.txt\""
   ]
  },
  {
   "cell_type": "code",
   "execution_count": 3,
   "id": "6c9e7ba9",
   "metadata": {},
   "outputs": [],
   "source": [
    "ROUND_SCORE_MAP = {\n",
    "    \"A X\": 1+3,\n",
    "    \"A Y\": 2+6,\n",
    "    \"A Z\": 3+0,\n",
    "    \"B X\": 1+0,\n",
    "    \"B Y\": 2+3,\n",
    "    \"B Z\": 3+6,\n",
    "    \"C X\": 1+6,\n",
    "    \"C Y\": 2+0,\n",
    "    \"C Z\": 3+3,\n",
    "}"
   ]
  },
  {
   "cell_type": "code",
   "execution_count": 4,
   "id": "15cc4127",
   "metadata": {
    "scrolled": true
   },
   "outputs": [],
   "source": [
    "def main():\n",
    "    \"\"\"Main function to solve puzzle.\"\"\"\n",
    "    score_list = []\n",
    "    with open(INPUT_FILE, encoding=\"utf-8\") as file_obj:\n",
    "        for line in map(lambda line: line.strip(), file_obj.readlines()):\n",
    "            score_list.append(ROUND_SCORE_MAP[line])\n",
    "\n",
    "    LOGGER.debug(\"score list: %s\\n\", score_list)\n",
    "\n",
    "    print(f\"solution: {sum(score_list)}\")"
   ]
  },
  {
   "cell_type": "code",
   "execution_count": 5,
   "id": "a150709c",
   "metadata": {},
   "outputs": [
    {
     "name": "stdout",
     "output_type": "stream",
     "text": [
      "solution: 15\n"
     ]
    }
   ],
   "source": [
    "if __name__ == \"__main__\":\n",
    "    LOGGER.setLevel(logging.DEBUG if SHOW_DEBUG_LOG else logging.INFO)\n",
    "    log_formatter = logging.Formatter(\"%(message)s\")\n",
    "    log_handler = logging.StreamHandler(sys.stdout)\n",
    "    log_handler.setFormatter(log_formatter)\n",
    "    LOGGER.addHandler(log_handler)\n",
    "    main()"
   ]
  }
 ],
 "metadata": {
  "kernelspec": {
   "display_name": "Python 3 (ipykernel)",
   "language": "python",
   "name": "python3"
  },
  "language_info": {
   "codemirror_mode": {
    "name": "ipython",
    "version": 3
   },
   "file_extension": ".py",
   "mimetype": "text/x-python",
   "name": "python",
   "nbconvert_exporter": "python",
   "pygments_lexer": "ipython3",
   "version": "3.9.5"
  }
 },
 "nbformat": 4,
 "nbformat_minor": 5
}
