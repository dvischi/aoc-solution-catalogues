{
 "cells": [
  {
   "cell_type": "markdown",
   "id": "81358d21",
   "metadata": {},
   "source": [
    "# AOC2022"
   ]
  },
  {
   "cell_type": "markdown",
   "id": "9d447890",
   "metadata": {},
   "source": [
    "## Day 15 / Part 2 / Beacon Exclusion Zone"
   ]
  },
  {
   "cell_type": "markdown",
   "id": "32aaf5c6",
   "metadata": {},
   "source": [
    "Problem Description: https://adventofcode.com/2022/day/15#part2\n",
    "\n",
    "Input: [Example](aoc2022_day15_example.txt)"
   ]
  },
  {
   "cell_type": "markdown",
   "id": "93d16792",
   "metadata": {},
   "source": [
    "### Notes\n",
    "- The derivation of intersection points between a [diamond](https://mathworld.wolfram.com/Diamond.html) at $(center_y, center_x)$ with radius $r$ and a horizonzal line at $y$ is described in [part 1](aoc2022_day15_1.ipynb)"
   ]
  },
  {
   "cell_type": "code",
   "execution_count": 1,
   "id": "b506cfa1",
   "metadata": {},
   "outputs": [],
   "source": [
    "%load_ext pycodestyle_magic\n",
    "%pycodestyle_on"
   ]
  },
  {
   "cell_type": "code",
   "execution_count": 2,
   "id": "1f554f05",
   "metadata": {},
   "outputs": [],
   "source": [
    "\"\"\"Solution for AOC2022, day 15, part 2.\"\"\"\n",
    "import logging\n",
    "import re\n",
    "import sys\n",
    "\n",
    "LOGGER = logging.getLogger(__name__)\n",
    "\n",
    "# show/hide debug logs\n",
    "SHOW_DEBUG_LOG = False\n",
    "# set input file\n",
    "INPUT_FILE = \"aoc2022_day15_example.txt\""
   ]
  },
  {
   "cell_type": "code",
   "execution_count": 3,
   "id": "0bb0bd7b",
   "metadata": {},
   "outputs": [],
   "source": [
    "MAX_ROW = 20"
   ]
  },
  {
   "cell_type": "code",
   "execution_count": 4,
   "id": "4d52b573",
   "metadata": {},
   "outputs": [],
   "source": [
    "class SensorField:\n",
    "    \"\"\"\n",
    "    Diamond scanning field of a sensor which contains only a single beacon.\n",
    "    \"\"\"\n",
    "    pos = None\n",
    "    radius = None\n",
    "\n",
    "    def __init__(self, pos, radius):\n",
    "        self.pos = pos\n",
    "        self.radius = radius\n",
    "\n",
    "    def does_intersect(self, row):\n",
    "        \"\"\"Check if a row intersects the field.\"\"\"\n",
    "        return manhattan_dist(self.pos, [row, self.pos[1]]) <= self.radius\n",
    "\n",
    "    def intersect(self, row):\n",
    "        \"\"\"\n",
    "        Calculate the (min_x, max_x, range) of the intersection between\n",
    "        a row and the field.\n",
    "        \"\"\"\n",
    "        min_x = -self.radius + abs(row - self.pos[0]) + self.pos[1]\n",
    "        max_x = self.radius - abs(row - self.pos[0]) + self.pos[1]\n",
    "        return min_x, max_x, max_x - min_x"
   ]
  },
  {
   "cell_type": "code",
   "execution_count": 5,
   "id": "69b0ffae",
   "metadata": {},
   "outputs": [],
   "source": [
    "def manhattan_dist(point1, point2):\n",
    "    \"\"\"Calculate manhattan distance between point1 and point2.\"\"\"\n",
    "    return abs(point1[0] - point2[0]) + abs(point1[1] - point2[1])\n",
    "\n",
    "\n",
    "def find_distress_beacon(sensor_fields):\n",
    "    \"\"\"Calculate the position of the distress beacon.\"\"\"\n",
    "    try:\n",
    "        LOGGER.debug(\"search destress beacon...\")\n",
    "\n",
    "        for row in range(MAX_ROW):\n",
    "            row_intersections = []\n",
    "            for sensor_field in sensor_fields:\n",
    "                if sensor_field.does_intersect(row):\n",
    "                    inter_min_x, inter_max_x, _ = sensor_field.intersect(row)\n",
    "                    row_intersections.append([inter_min_x, inter_max_x])\n",
    "\n",
    "            row_intersections = list(sorted(row_intersections))\n",
    "\n",
    "            x_pos = -1\n",
    "            for inter_min_x, inter_max_x in row_intersections:\n",
    "                if x_pos + 1 < inter_min_x:\n",
    "                    raise StopIteration([row, x_pos + 1])\n",
    "                x_pos = max(x_pos, inter_max_x)\n",
    "\n",
    "            if x_pos < MAX_ROW:\n",
    "                raise StopIteration([row, MAX_ROW])\n",
    "\n",
    "            LOGGER.debug(\"  %s%%\", row / MAX_ROW * 100)\n",
    "    except StopIteration as ex:\n",
    "        LOGGER.debug(\"  found beacon at %s\", ex.args[0])\n",
    "        return ex.args[0]\n",
    "\n",
    "    return None"
   ]
  },
  {
   "cell_type": "code",
   "execution_count": 6,
   "id": "2852c241",
   "metadata": {},
   "outputs": [],
   "source": [
    "def main():\n",
    "    \"\"\"Main function to solve puzzle.\"\"\"\n",
    "    sensor_fields = []\n",
    "    with open(INPUT_FILE, encoding=\"utf-8\") as file_obj:\n",
    "        LOGGER.debug(\"read input...\")\n",
    "        for line in [line.rstrip() for line in file_obj.readlines()]:\n",
    "            (\n",
    "                sensor_x_pos, sensor_y_pos,\n",
    "                beacon_x_pos, beacon_y_pos\n",
    "            ) = map(int, re.search(\n",
    "                r\"Sensor at x=([-]?\\d+), y=([-]?\\d+): \" +\n",
    "                r\"closest beacon is at x=([-]?\\d+), y=([-]?\\d+)\",\n",
    "                line\n",
    "            ).groups())\n",
    "\n",
    "            sensor_pos = (sensor_y_pos, sensor_x_pos)\n",
    "            beacon_pos = (beacon_y_pos, beacon_x_pos)\n",
    "\n",
    "            LOGGER.debug(\n",
    "                \"  found sensor %s with closest beacon at %s\",\n",
    "                sensor_pos, beacon_pos\n",
    "            )\n",
    "\n",
    "            sensor_fields.append(\n",
    "                SensorField(sensor_pos, manhattan_dist(sensor_pos, beacon_pos))\n",
    "            )\n",
    "\n",
    "    LOGGER.debug(\"\")\n",
    "\n",
    "    distress_beacon_pos = find_distress_beacon(sensor_fields)\n",
    "\n",
    "    LOGGER.debug(\"\")\n",
    "\n",
    "    print(\n",
    "        f\"solution: {distress_beacon_pos[1]*4000000 + distress_beacon_pos[0]}\"\n",
    "    )"
   ]
  },
  {
   "cell_type": "code",
   "execution_count": 7,
   "id": "38655aa9",
   "metadata": {},
   "outputs": [
    {
     "name": "stdout",
     "output_type": "stream",
     "text": [
      "solution: 56000011\n"
     ]
    }
   ],
   "source": [
    "if __name__ == \"__main__\":\n",
    "    LOGGER.setLevel(logging.DEBUG if SHOW_DEBUG_LOG else logging.INFO)\n",
    "    log_formatter = logging.Formatter(\"%(message)s\")\n",
    "    log_handler = logging.StreamHandler(sys.stdout)\n",
    "    log_handler.setFormatter(log_formatter)\n",
    "    LOGGER.addHandler(log_handler)\n",
    "    main()"
   ]
  }
 ],
 "metadata": {
  "kernelspec": {
   "display_name": "Python 3 (ipykernel)",
   "language": "python",
   "name": "python3"
  },
  "language_info": {
   "codemirror_mode": {
    "name": "ipython",
    "version": 3
   },
   "file_extension": ".py",
   "mimetype": "text/x-python",
   "name": "python",
   "nbconvert_exporter": "python",
   "pygments_lexer": "ipython3",
   "version": "3.9.5"
  }
 },
 "nbformat": 4,
 "nbformat_minor": 5
}
