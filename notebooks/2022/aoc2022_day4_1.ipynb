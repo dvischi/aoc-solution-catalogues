{
 "cells": [
  {
   "cell_type": "markdown",
   "id": "81358d21",
   "metadata": {},
   "source": [
    "# AOC2022"
   ]
  },
  {
   "cell_type": "markdown",
   "id": "9d447890",
   "metadata": {},
   "source": [
    "## Day 4 / Part 1 / Camp Cleanup"
   ]
  },
  {
   "cell_type": "markdown",
   "id": "32aaf5c6",
   "metadata": {},
   "source": [
    "Problem Description: https://adventofcode.com/2022/day/4\n",
    "\n",
    "Input: [Example](aoc2022_day4_example.txt)"
   ]
  },
  {
   "cell_type": "code",
   "execution_count": 1,
   "id": "c9d130db",
   "metadata": {},
   "outputs": [],
   "source": [
    "%load_ext pycodestyle_magic\n",
    "%pycodestyle_on"
   ]
  },
  {
   "cell_type": "code",
   "execution_count": 2,
   "id": "1f554f05",
   "metadata": {},
   "outputs": [],
   "source": [
    "\"\"\"Solution for AOC2022, day 4, part 1.\"\"\"\n",
    "import logging\n",
    "import sys\n",
    "\n",
    "LOGGER = logging.getLogger(__name__)\n",
    "\n",
    "# show/hide debug logs\n",
    "SHOW_DEBUG_LOG = False\n",
    "# set input file\n",
    "INPUT_FILE = \"aoc2022_day4_example.txt\""
   ]
  },
  {
   "cell_type": "code",
   "execution_count": 3,
   "id": "15cc4127",
   "metadata": {
    "scrolled": true
   },
   "outputs": [],
   "source": [
    "def main():\n",
    "    \"\"\"Main function to solve puzzle.\"\"\"\n",
    "    overlap_cnt = 0\n",
    "    with open(INPUT_FILE, encoding=\"utf-8\") as file_obj:\n",
    "        LOGGER.debug(\"search assignments which fully contain another one...\")\n",
    "        for section_assignment_pairs in map(\n",
    "            lambda line: line.strip(), file_obj.readlines()\n",
    "        ):\n",
    "            first_section_assignment, second_section_assignment = (\n",
    "                section_assignment_pairs.split(\",\")\n",
    "            )\n",
    "            first_section_from, first_section_to = map(\n",
    "                int, first_section_assignment.split(\"-\")\n",
    "            )\n",
    "            second_section_from, second_section_to = map(\n",
    "                int, second_section_assignment.split(\"-\")\n",
    "            )\n",
    "\n",
    "            if (\n",
    "                first_section_from <= second_section_from and\n",
    "                second_section_to <= first_section_to\n",
    "            ):\n",
    "                LOGGER.debug(\n",
    "                    \"  [%s] fully contains [%s]\",\n",
    "                    first_section_assignment, second_section_assignment\n",
    "                )\n",
    "                overlap_cnt += 1\n",
    "            elif (\n",
    "                second_section_from <= first_section_from and\n",
    "                first_section_to <= second_section_to\n",
    "            ):\n",
    "                LOGGER.debug(\n",
    "                    \"  [%s] fully contains [%s]\",\n",
    "                    second_section_assignment, first_section_assignment\n",
    "                )\n",
    "                overlap_cnt += 1\n",
    "\n",
    "    LOGGER.debug(\"\")\n",
    "\n",
    "    print(f\"solution: {overlap_cnt}\")"
   ]
  },
  {
   "cell_type": "code",
   "execution_count": 4,
   "id": "8ca71f98",
   "metadata": {},
   "outputs": [
    {
     "name": "stdout",
     "output_type": "stream",
     "text": [
      "solution: 2\n"
     ]
    }
   ],
   "source": [
    "if __name__ == \"__main__\":\n",
    "    LOGGER.setLevel(logging.DEBUG if SHOW_DEBUG_LOG else logging.INFO)\n",
    "    log_formatter = logging.Formatter(\"%(message)s\")\n",
    "    log_handler = logging.StreamHandler(sys.stdout)\n",
    "    log_handler.setFormatter(log_formatter)\n",
    "    LOGGER.addHandler(log_handler)\n",
    "    main()"
   ]
  }
 ],
 "metadata": {
  "kernelspec": {
   "display_name": "Python 3 (ipykernel)",
   "language": "python",
   "name": "python3"
  },
  "language_info": {
   "codemirror_mode": {
    "name": "ipython",
    "version": 3
   },
   "file_extension": ".py",
   "mimetype": "text/x-python",
   "name": "python",
   "nbconvert_exporter": "python",
   "pygments_lexer": "ipython3",
   "version": "3.9.5"
  }
 },
 "nbformat": 4,
 "nbformat_minor": 5
}
