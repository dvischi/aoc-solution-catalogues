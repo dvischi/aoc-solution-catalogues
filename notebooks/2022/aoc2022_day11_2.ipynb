{
 "cells": [
  {
   "cell_type": "markdown",
   "id": "81358d21",
   "metadata": {},
   "source": [
    "# AOC2022"
   ]
  },
  {
   "cell_type": "markdown",
   "id": "9d447890",
   "metadata": {},
   "source": [
    "## Day 11 / Part 2 / Monkey in the Middle"
   ]
  },
  {
   "cell_type": "markdown",
   "id": "32aaf5c6",
   "metadata": {},
   "source": [
    "Problem Description: https://adventofcode.com/2022/day/11#part2\n",
    "\n",
    "Input: [Example](aoc2022_day11_example.txt)"
   ]
  },
  {
   "cell_type": "markdown",
   "id": "bc548191",
   "metadata": {},
   "source": [
    "### Notes\n",
    "- This solution uses the unsecure `eval` function which is neat for a coding challenge but should be avoided in a real project!\n",
    "- Given a naive implementation for computing 10000 rounds, we run into an issue with the continously increasing `worry_level`s. Hence, we compute the product of all test-divisors (`div_prod`) which is used with a modulo operation to keep the `worry_level`s low. "
   ]
  },
  {
   "cell_type": "code",
   "execution_count": 1,
   "id": "4f5d1065",
   "metadata": {},
   "outputs": [],
   "source": [
    "%load_ext pycodestyle_magic\n",
    "%pycodestyle_on"
   ]
  },
  {
   "cell_type": "code",
   "execution_count": 2,
   "id": "1f554f05",
   "metadata": {},
   "outputs": [],
   "source": [
    "\"\"\"Solution for AOC2022, day 11, part 2.\"\"\"\n",
    "import logging\n",
    "import re\n",
    "import sys\n",
    "\n",
    "LOGGER = logging.getLogger(__name__)\n",
    "\n",
    "# show/hide debug logs\n",
    "SHOW_DEBUG_LOG = False\n",
    "# set input file\n",
    "INPUT_FILE = \"aoc2022_day11_example.txt\""
   ]
  },
  {
   "cell_type": "code",
   "execution_count": 3,
   "id": "14769488",
   "metadata": {},
   "outputs": [],
   "source": [
    "ROUNDS = 10000"
   ]
  },
  {
   "cell_type": "code",
   "execution_count": 4,
   "id": "1ad9d521",
   "metadata": {},
   "outputs": [],
   "source": [
    "class Monkey:\n",
    "    \"\"\"Monkey in the game.\"\"\"\n",
    "    items = []\n",
    "    op = \"\"\n",
    "    test = [\"\", -1, -1]\n",
    "    inspected_items = 0\n",
    "\n",
    "    def pop_item(self):\n",
    "        \"\"\"Pop the first item the monkey holds.\"\"\"\n",
    "        self.inspected_items += 1\n",
    "        return self.items.pop(0)\n",
    "\n",
    "    def eval_op(self, item):\n",
    "        \"\"\"Evaluate the monkey's operation.\"\"\"\n",
    "        # pylint: disable=W0123,W0612\n",
    "        old = item\n",
    "        return eval(self.op[6:])\n",
    "\n",
    "    def get_next_monkey(self, item):\n",
    "        \"\"\"Get the monkey which receives an item.\"\"\"\n",
    "        expr, true_mi, false_mi = self.test\n",
    "        if expr.startswith(\"divisible\"):\n",
    "            return true_mi if (item % int(expr[13:]) == 0) else false_mi\n",
    "        raise RuntimeError(\"unknown test!\")\n",
    "\n",
    "    def __repr__(self):\n",
    "        \"\"\"Compute the printable string representation of the monkey.\"\"\"\n",
    "        return f\"Monkey ({self.items}, {self.op}, {self.test})\""
   ]
  },
  {
   "cell_type": "code",
   "execution_count": 5,
   "id": "debc46b3",
   "metadata": {},
   "outputs": [],
   "source": [
    "def main():\n",
    "    \"\"\"Main function to solve puzzle.\"\"\"\n",
    "    monkeys = []\n",
    "    with open(INPUT_FILE, encoding=\"utf-8\") as file_obj:\n",
    "        lines = [line.rstrip() for line in file_obj.readlines()]\n",
    "        line_idx = 0\n",
    "        while line_idx < len(lines):\n",
    "            line = lines[line_idx]\n",
    "            if line.startswith(\"Monkey\"):\n",
    "                monkeys.append(Monkey())\n",
    "                line_idx += 1\n",
    "            elif \"Starting items\" in line:\n",
    "                monkeys[-1].items = list(map(\n",
    "                    int, re.findall(r\"\\d+\", line)\n",
    "                ))\n",
    "                line_idx += 1\n",
    "            elif \"Operation\" in line:\n",
    "                monkeys[-1].op = line[13:]\n",
    "                line_idx += 1\n",
    "            elif \"Test\" in line:\n",
    "                monkeys[-1].test = [\n",
    "                    line[8:],\n",
    "                    int(lines[line_idx+1][29:]),\n",
    "                    int(lines[line_idx+2][30:])\n",
    "                ]\n",
    "                line_idx += 3\n",
    "            else:\n",
    "                line_idx += 1\n",
    "\n",
    "    LOGGER.debug(\n",
    "        \"monkeys (after round 0):\\n\"\n",
    "        \"  %s\\n\",\n",
    "        \"\\n  \".join(map(str, monkeys))\n",
    "    )\n",
    "\n",
    "    div_prod = 1\n",
    "    for monkey in monkeys:\n",
    "        div_prod *= int(monkey.test[0][13:])\n",
    "\n",
    "    for _ in range(ROUNDS):\n",
    "        for monkey in monkeys:\n",
    "            while len(monkey.items) > 0:\n",
    "                item = monkey.pop_item()\n",
    "                # keep your worry levels manageable\n",
    "                item = item % div_prod\n",
    "                worry_level = monkey.eval_op(item)\n",
    "                monkeys[monkey.get_next_monkey(worry_level)].items.append(\n",
    "                    worry_level\n",
    "                )\n",
    "\n",
    "    LOGGER.debug(\n",
    "        \"monkeys (after round %s):\\n\"\n",
    "        \"  %s\\n\",\n",
    "        ROUNDS, \"\\n  \".join(map(str, monkeys))\n",
    "    )\n",
    "\n",
    "    monkeys = list(sorted(\n",
    "        monkeys,\n",
    "        key=lambda m: m.inspected_items\n",
    "    ))\n",
    "    monkey_business = monkeys[-1].inspected_items * monkeys[-2].inspected_items\n",
    "    print(f\"solution: {monkey_business}\")"
   ]
  },
  {
   "cell_type": "code",
   "execution_count": 6,
   "id": "1c4d75e8",
   "metadata": {},
   "outputs": [
    {
     "name": "stdout",
     "output_type": "stream",
     "text": [
      "solution: 2713310158\n"
     ]
    }
   ],
   "source": [
    "if __name__ == \"__main__\":\n",
    "    LOGGER.setLevel(logging.DEBUG if SHOW_DEBUG_LOG else logging.INFO)\n",
    "    log_formatter = logging.Formatter(\"%(message)s\")\n",
    "    log_handler = logging.StreamHandler(sys.stdout)\n",
    "    log_handler.setFormatter(log_formatter)\n",
    "    LOGGER.addHandler(log_handler)\n",
    "    main()"
   ]
  }
 ],
 "metadata": {
  "kernelspec": {
   "display_name": "Python 3 (ipykernel)",
   "language": "python",
   "name": "python3"
  },
  "language_info": {
   "codemirror_mode": {
    "name": "ipython",
    "version": 3
   },
   "file_extension": ".py",
   "mimetype": "text/x-python",
   "name": "python",
   "nbconvert_exporter": "python",
   "pygments_lexer": "ipython3",
   "version": "3.9.5"
  }
 },
 "nbformat": 4,
 "nbformat_minor": 5
}
