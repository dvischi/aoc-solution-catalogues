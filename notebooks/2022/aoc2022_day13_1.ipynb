{
 "cells": [
  {
   "cell_type": "markdown",
   "id": "81358d21",
   "metadata": {},
   "source": [
    "# AOC2022"
   ]
  },
  {
   "cell_type": "markdown",
   "id": "9d447890",
   "metadata": {},
   "source": [
    "## Day 13 / Part 1 / Distress Signal"
   ]
  },
  {
   "cell_type": "markdown",
   "id": "32aaf5c6",
   "metadata": {},
   "source": [
    "Problem Description: https://adventofcode.com/2022/day/13\n",
    "\n",
    "Input: [Example](aoc2022_day13_example.txt)"
   ]
  },
  {
   "cell_type": "markdown",
   "id": "a326cb47",
   "metadata": {},
   "source": [
    "### Notes\n",
    "- This solution uses the unsecure `eval` function which is neat for a coding challenge but should be avoided in a real project!"
   ]
  },
  {
   "cell_type": "code",
   "execution_count": 1,
   "id": "10ff2223",
   "metadata": {},
   "outputs": [],
   "source": [
    "%load_ext pycodestyle_magic\n",
    "%pycodestyle_on"
   ]
  },
  {
   "cell_type": "code",
   "execution_count": 2,
   "id": "1f554f05",
   "metadata": {},
   "outputs": [],
   "source": [
    "\"\"\"Solution for AOC2022, day 13, part 1.\"\"\"\n",
    "import logging\n",
    "import sys\n",
    "\n",
    "LOGGER = logging.getLogger(__name__)\n",
    "\n",
    "# show/hide debug logs\n",
    "SHOW_DEBUG_LOG = False\n",
    "# set input file\n",
    "INPUT_FILE = \"aoc2022_day13_example.txt\""
   ]
  },
  {
   "cell_type": "code",
   "execution_count": 3,
   "id": "9e2c1bc2",
   "metadata": {},
   "outputs": [],
   "source": [
    "def compare(lhs, rhs, depth=0):\n",
    "    \"\"\"Compare a left-hand side packet with a right-hand side packet.\"\"\"\n",
    "    if depth == 0:\n",
    "        LOGGER.debug(\"  compare %s with %s...\", lhs, rhs)\n",
    "    order = _compare(lhs, rhs, depth)\n",
    "    if order == -1:\n",
    "        LOGGER.debug(\"    %s < %s\", lhs, rhs)\n",
    "    elif order == 1:\n",
    "        LOGGER.debug(\"    %s > %s\", lhs, rhs)\n",
    "    else:\n",
    "        LOGGER.debug(\"    %s == %s\", lhs, rhs)\n",
    "    return order\n",
    "\n",
    "\n",
    "def _compare(lhs, rhs, depth=0):\n",
    "    \"\"\"Helper function for compare(lhs, rhs, depth=0).\"\"\"\n",
    "    if isinstance(lhs, int):\n",
    "        lhs = [lhs]\n",
    "    if isinstance(rhs, int):\n",
    "        rhs = [rhs]\n",
    "\n",
    "    for idx in range(min(len(lhs), len(rhs))):\n",
    "        lhs_val = lhs[idx]\n",
    "        rhs_val = rhs[idx]\n",
    "        LOGGER.debug(\n",
    "            \"%scheck %s <= %s...\",\n",
    "            \" \" * ((2 + depth) * 2), lhs_val, rhs_val\n",
    "        )\n",
    "        if isinstance(lhs_val, int) and isinstance(rhs_val, int):\n",
    "            if lhs_val < rhs_val:\n",
    "                return -1\n",
    "            if lhs_val > rhs_val:\n",
    "                return 1\n",
    "        else:\n",
    "            order = _compare(lhs_val, rhs_val, depth+1)\n",
    "            if order == 0:\n",
    "                continue  # compare the next values\n",
    "            return order\n",
    "    if len(lhs) < len(rhs):\n",
    "        return -1\n",
    "    if len(lhs) > len(rhs):\n",
    "        return 1\n",
    "    return 0"
   ]
  },
  {
   "cell_type": "code",
   "execution_count": 4,
   "id": "15cc4127",
   "metadata": {
    "scrolled": true
   },
   "outputs": [],
   "source": [
    "def main():\n",
    "    \"\"\"Main function to solve puzzle.\"\"\"\n",
    "    # pylint: disable=W0123,W0612\n",
    "    with open(INPUT_FILE, encoding=\"utf-8\") as file_obj:\n",
    "        lines = [line.rstrip() for line in file_obj.readlines()]\n",
    "\n",
    "        LOGGER.debug(\"compare packages...\")\n",
    "\n",
    "        packet_pairs = []\n",
    "        for i in range(0, len(lines), 3):\n",
    "            lhs = eval(lines[i])\n",
    "            rhs = eval(lines[i+1])\n",
    "            if compare(lhs, rhs) == -1:\n",
    "                packet_pairs.append(i / 3 + 1)\n",
    "\n",
    "    LOGGER.debug(\"\")\n",
    "\n",
    "    print(f\"solution: {sum(packet_pairs)}\")"
   ]
  },
  {
   "cell_type": "code",
   "execution_count": 5,
   "id": "82565240",
   "metadata": {},
   "outputs": [
    {
     "name": "stdout",
     "output_type": "stream",
     "text": [
      "solution: 13.0\n"
     ]
    }
   ],
   "source": [
    "if __name__ == \"__main__\":\n",
    "    LOGGER.setLevel(logging.DEBUG if SHOW_DEBUG_LOG else logging.INFO)\n",
    "    log_formatter = logging.Formatter(\"%(message)s\")\n",
    "    log_handler = logging.StreamHandler(sys.stdout)\n",
    "    log_handler.setFormatter(log_formatter)\n",
    "    LOGGER.addHandler(log_handler)\n",
    "    main()"
   ]
  }
 ],
 "metadata": {
  "kernelspec": {
   "display_name": "Python 3 (ipykernel)",
   "language": "python",
   "name": "python3"
  },
  "language_info": {
   "codemirror_mode": {
    "name": "ipython",
    "version": 3
   },
   "file_extension": ".py",
   "mimetype": "text/x-python",
   "name": "python",
   "nbconvert_exporter": "python",
   "pygments_lexer": "ipython3",
   "version": "3.9.5"
  }
 },
 "nbformat": 4,
 "nbformat_minor": 5
}
