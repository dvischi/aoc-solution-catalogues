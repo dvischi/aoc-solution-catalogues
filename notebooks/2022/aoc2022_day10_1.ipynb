{
 "cells": [
  {
   "cell_type": "markdown",
   "id": "81358d21",
   "metadata": {},
   "source": [
    "# AOC2022"
   ]
  },
  {
   "cell_type": "markdown",
   "id": "9d447890",
   "metadata": {},
   "source": [
    "## Day 10 / Part 1 / Cathode-Ray Tube"
   ]
  },
  {
   "cell_type": "markdown",
   "id": "32aaf5c6",
   "metadata": {},
   "source": [
    "Problem Description: https://adventofcode.com/2022/day/10\n",
    "\n",
    "Input: [Example](aoc2022_day10_example.txt)"
   ]
  },
  {
   "cell_type": "code",
   "execution_count": 1,
   "id": "70d9cac9",
   "metadata": {},
   "outputs": [],
   "source": [
    "%load_ext pycodestyle_magic\n",
    "%pycodestyle_on"
   ]
  },
  {
   "cell_type": "code",
   "execution_count": 2,
   "id": "1f554f05",
   "metadata": {},
   "outputs": [],
   "source": [
    "\"\"\"Solution for AOC2022, day 10, part 1.\"\"\"\n",
    "import logging\n",
    "import sys\n",
    "\n",
    "LOGGER = logging.getLogger(__name__)\n",
    "\n",
    "# show/hide debug logs\n",
    "SHOW_DEBUG_LOG = False\n",
    "# set input file\n",
    "INPUT_FILE = \"aoc2022_day10_example.txt\""
   ]
  },
  {
   "cell_type": "code",
   "execution_count": 3,
   "id": "c4cda419",
   "metadata": {},
   "outputs": [],
   "source": [
    "OP_CYCLE_MAP = {\n",
    "    \"noop\": 1,\n",
    "    \"addx\": 2\n",
    "}"
   ]
  },
  {
   "cell_type": "code",
   "execution_count": 4,
   "id": "15cc4127",
   "metadata": {
    "scrolled": true
   },
   "outputs": [],
   "source": [
    "def main():\n",
    "    \"\"\"Main function to solve puzzle.\"\"\"\n",
    "    with open(INPUT_FILE, encoding=\"utf-8\") as file_obj:\n",
    "        program = [line.rstrip() for line in file_obj.readlines()]\n",
    "\n",
    "    cycle_no = 0\n",
    "    instr_ptr = 0\n",
    "    registers = [1]\n",
    "    signal_strs = []\n",
    "\n",
    "    LOGGER.debug(\"run program...\")\n",
    "\n",
    "    operation = None\n",
    "    remaining_op_cycles = 0\n",
    "    while instr_ptr < len(program):\n",
    "        # read next instruction\n",
    "        if remaining_op_cycles <= 0:\n",
    "            if \" \" in program[instr_ptr]:\n",
    "                operation, params = program[instr_ptr].split(\" \")\n",
    "            else:\n",
    "                operation, params = program[instr_ptr], None\n",
    "            instr_ptr += 1\n",
    "            remaining_op_cycles = OP_CYCLE_MAP[operation]\n",
    "\n",
    "            LOGGER.debug(\n",
    "                \"  execute %s(%s)\", operation, params if params else \"\"\n",
    "            )\n",
    "\n",
    "        # begin cycle\n",
    "        cycle_no += 1\n",
    "\n",
    "        if cycle_no in (20, 60, 100, 140, 180, 220):\n",
    "            signal_strs.append(cycle_no * registers[0])\n",
    "\n",
    "        remaining_op_cycles -= 1\n",
    "\n",
    "        if remaining_op_cycles <= 0:\n",
    "            if operation == \"noop\":\n",
    "                pass\n",
    "            elif operation == \"addx\":\n",
    "                registers[0] += int(params)\n",
    "\n",
    "        # end cycle\n",
    "\n",
    "    LOGGER.debug(\n",
    "        \"\\n\"\n",
    "        \"signal strengths: %s\\n\",\n",
    "        signal_strs\n",
    "    )\n",
    "\n",
    "    print(f\"solution: {sum(signal_strs)}\")"
   ]
  },
  {
   "cell_type": "code",
   "execution_count": 5,
   "id": "96da5c55",
   "metadata": {},
   "outputs": [
    {
     "name": "stdout",
     "output_type": "stream",
     "text": [
      "solution: 13140\n"
     ]
    }
   ],
   "source": [
    "if __name__ == \"__main__\":\n",
    "    LOGGER.setLevel(logging.DEBUG if SHOW_DEBUG_LOG else logging.INFO)\n",
    "    log_formatter = logging.Formatter(\"%(message)s\")\n",
    "    log_handler = logging.StreamHandler(sys.stdout)\n",
    "    log_handler.setFormatter(log_formatter)\n",
    "    LOGGER.addHandler(log_handler)\n",
    "    main()"
   ]
  }
 ],
 "metadata": {
  "kernelspec": {
   "display_name": "Python 3 (ipykernel)",
   "language": "python",
   "name": "python3"
  },
  "language_info": {
   "codemirror_mode": {
    "name": "ipython",
    "version": 3
   },
   "file_extension": ".py",
   "mimetype": "text/x-python",
   "name": "python",
   "nbconvert_exporter": "python",
   "pygments_lexer": "ipython3",
   "version": "3.9.5"
  }
 },
 "nbformat": 4,
 "nbformat_minor": 5
}
