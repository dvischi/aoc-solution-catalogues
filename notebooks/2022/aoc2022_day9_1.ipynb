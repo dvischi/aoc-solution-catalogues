{
 "cells": [
  {
   "cell_type": "markdown",
   "id": "81358d21",
   "metadata": {},
   "source": [
    "# AOC2022"
   ]
  },
  {
   "cell_type": "markdown",
   "id": "9d447890",
   "metadata": {},
   "source": [
    "## Day 9 / Part 1 / Rope Bridge"
   ]
  },
  {
   "cell_type": "markdown",
   "id": "32aaf5c6",
   "metadata": {},
   "source": [
    "Problem Description: https://adventofcode.com/2022/day/9\n",
    "\n",
    "Input: [Example](aoc2022_day9_example.txt)"
   ]
  },
  {
   "cell_type": "markdown",
   "id": "e5ec2d17",
   "metadata": {},
   "source": [
    "### Notes\n",
    "- The tail can only follow the previous position of the head if the rope consists of two knots. If the rope has more than two knots, a tail may move horizontally/vertically instead of diagonal.\n",
    "A complete solution is given in [Rope Bridge / Part 2](./aoc2022_day9_2.ipynb)."
   ]
  },
  {
   "cell_type": "code",
   "execution_count": 1,
   "id": "1360882f",
   "metadata": {},
   "outputs": [],
   "source": [
    "%load_ext pycodestyle_magic\n",
    "%pycodestyle_on"
   ]
  },
  {
   "cell_type": "code",
   "execution_count": 2,
   "id": "1f554f05",
   "metadata": {},
   "outputs": [],
   "source": [
    "\"\"\"Solution for AOC2022, day 9, part 1.\"\"\"\n",
    "import logging\n",
    "import sys\n",
    "import numpy as np\n",
    "\n",
    "LOGGER = logging.getLogger(__name__)\n",
    "\n",
    "# show/hide debug logs\n",
    "SHOW_DEBUG_LOG = False\n",
    "# set input file\n",
    "INPUT_FILE = \"aoc2022_day9_example.txt\""
   ]
  },
  {
   "cell_type": "code",
   "execution_count": 3,
   "id": "27bdc8ba",
   "metadata": {},
   "outputs": [],
   "source": [
    "def dist(pos_x, pos_y):\n",
    "    \"\"\"Calculate the Euclidean distance between pos_x and pos_y.\"\"\"\n",
    "    return np.sqrt(\n",
    "        (pos_x[0] - pos_y[0])**2 +\n",
    "        (pos_x[1] - pos_y[1])**2\n",
    "    )"
   ]
  },
  {
   "cell_type": "code",
   "execution_count": 4,
   "id": "15cc4127",
   "metadata": {
    "scrolled": true
   },
   "outputs": [],
   "source": [
    "def main():\n",
    "    \"\"\"Main function to solve puzzle.\"\"\"\n",
    "    head_pos = [0, 0]\n",
    "    tail_pos = [0, 0]\n",
    "    tail_poss = {tuple(tail_pos)}\n",
    "    with open(INPUT_FILE, encoding=\"utf-8\") as file_obj:\n",
    "        for motion in map(lambda line: line.strip(), file_obj.readlines()):\n",
    "            direction, steps = motion.split(\" \")\n",
    "            for _ in range(int(steps)):\n",
    "                last_head_pos = head_pos.copy()\n",
    "                if direction == \"U\":\n",
    "                    head_pos[0] += 1\n",
    "                elif direction == \"R\":\n",
    "                    head_pos[1] += 1\n",
    "                elif direction == \"D\":\n",
    "                    head_pos[0] -= 1\n",
    "                elif direction == \"L\":\n",
    "                    head_pos[1] -= 1\n",
    "                else:\n",
    "                    raise RuntimeError(\"unexpected error!\")\n",
    "\n",
    "                if dist(head_pos, tail_pos) >= 2:\n",
    "                    tail_pos = last_head_pos\n",
    "                    tail_poss.add(tuple(tail_pos))\n",
    "\n",
    "    LOGGER.debug(\"visited positions: %s\\n\", tail_poss)\n",
    "\n",
    "    print(f\"solution: {len(tail_poss)}\")"
   ]
  },
  {
   "cell_type": "code",
   "execution_count": 5,
   "id": "212e85f4",
   "metadata": {},
   "outputs": [
    {
     "name": "stdout",
     "output_type": "stream",
     "text": [
      "solution: 13\n"
     ]
    }
   ],
   "source": [
    "if __name__ == \"__main__\":\n",
    "    LOGGER.setLevel(logging.DEBUG if SHOW_DEBUG_LOG else logging.INFO)\n",
    "    log_formatter = logging.Formatter(\"%(message)s\")\n",
    "    log_handler = logging.StreamHandler(sys.stdout)\n",
    "    log_handler.setFormatter(log_formatter)\n",
    "    LOGGER.addHandler(log_handler)\n",
    "    main()"
   ]
  }
 ],
 "metadata": {
  "kernelspec": {
   "display_name": "Python 3 (ipykernel)",
   "language": "python",
   "name": "python3"
  },
  "language_info": {
   "codemirror_mode": {
    "name": "ipython",
    "version": 3
   },
   "file_extension": ".py",
   "mimetype": "text/x-python",
   "name": "python",
   "nbconvert_exporter": "python",
   "pygments_lexer": "ipython3",
   "version": "3.9.5"
  }
 },
 "nbformat": 4,
 "nbformat_minor": 5
}
