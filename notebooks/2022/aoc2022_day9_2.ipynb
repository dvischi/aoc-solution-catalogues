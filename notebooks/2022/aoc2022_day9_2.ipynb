{
 "cells": [
  {
   "cell_type": "markdown",
   "id": "81358d21",
   "metadata": {},
   "source": [
    "# AOC2022"
   ]
  },
  {
   "cell_type": "markdown",
   "id": "9d447890",
   "metadata": {},
   "source": [
    "## Day 9 / Part 2 / Rope Bridge"
   ]
  },
  {
   "cell_type": "markdown",
   "id": "32aaf5c6",
   "metadata": {},
   "source": [
    "Problem Description: https://adventofcode.com/2022/day/9#part2\n",
    "\n",
    "Input: [Example](aoc2022_day9_example.txt)"
   ]
  },
  {
   "cell_type": "code",
   "execution_count": 1,
   "id": "877ed1dc",
   "metadata": {},
   "outputs": [],
   "source": [
    "%load_ext pycodestyle_magic\n",
    "%pycodestyle_on"
   ]
  },
  {
   "cell_type": "code",
   "execution_count": 2,
   "id": "1f554f05",
   "metadata": {},
   "outputs": [],
   "source": [
    "\"\"\"Solution for AOC2022, day 9, part 2.\"\"\"\n",
    "import logging\n",
    "import sys\n",
    "import numpy as np\n",
    "\n",
    "LOGGER = logging.getLogger(__name__)\n",
    "\n",
    "# show/hide debug logs\n",
    "SHOW_DEBUG_LOG = False\n",
    "# set input file\n",
    "INPUT_FILE = \"aoc2022_day9_example.txt\""
   ]
  },
  {
   "cell_type": "code",
   "execution_count": 3,
   "id": "5bcb2605",
   "metadata": {},
   "outputs": [],
   "source": [
    "ROPE_KNOTS = 10"
   ]
  },
  {
   "cell_type": "code",
   "execution_count": 4,
   "id": "fefbe0d2",
   "metadata": {},
   "outputs": [],
   "source": [
    "class Knot:\n",
    "    \"\"\"Knot of a rope.\"\"\"\n",
    "    pos = None\n",
    "    tail = None\n",
    "    visited_poss = None\n",
    "\n",
    "    def __init__(self, pos=None, tail=None, track_pos=False):\n",
    "        self.pos = pos or [0, 0]\n",
    "        self.tail = tail\n",
    "        self.track_pos = track_pos\n",
    "\n",
    "        if self.track_pos:\n",
    "            self.visited_poss = {tuple(self.pos)}\n",
    "\n",
    "    def set_pos(self, pos):\n",
    "        \"\"\"Set the position of the knot and - if needed - its tail.\"\"\"\n",
    "        if self.tail is not None and dist(pos, self.tail.pos) >= 2:\n",
    "            delta_map = {-2: -1, -1: -1, 0: 0, 1: 1, 2: 1}\n",
    "            delta_y = delta_map[pos[0]-self.tail.pos[0]]\n",
    "            delta_x = delta_map[pos[1]-self.tail.pos[1]]\n",
    "            self.tail.set_pos(\n",
    "                [self.tail.pos[0]+delta_y, self.tail.pos[1]+delta_x]\n",
    "            )\n",
    "        if self.track_pos:\n",
    "            self.visited_poss.add(tuple(pos))\n",
    "        self.pos = pos\n",
    "\n",
    "    def __str__(self):\n",
    "        \"\"\"Compute the informal string representation of the knot.\"\"\"\n",
    "        return f\"knot (y={self.pos[0]}, x={self.pos[1]})\""
   ]
  },
  {
   "cell_type": "code",
   "execution_count": 5,
   "id": "d43fed27",
   "metadata": {},
   "outputs": [],
   "source": [
    "def dist(pos_x, pos_y):\n",
    "    \"\"\"Calculate the Euclidean distance between pos_x and pos_y.\"\"\"\n",
    "    return np.sqrt(\n",
    "        (pos_x[0] - pos_y[0])**2 +\n",
    "        (pos_x[1] - pos_y[1])**2\n",
    "    )"
   ]
  },
  {
   "cell_type": "code",
   "execution_count": 6,
   "id": "15cc4127",
   "metadata": {
    "scrolled": true
   },
   "outputs": [],
   "source": [
    "def main():\n",
    "    \"\"\"Main function to solve puzzle.\"\"\"\n",
    "    rope = [\n",
    "        Knot(None, None, knot_idx + 1 == ROPE_KNOTS)\n",
    "        for knot_idx in range(ROPE_KNOTS)\n",
    "    ]\n",
    "    for knot_idx in range(1, len(rope)):\n",
    "        rope[knot_idx-1].tail = rope[knot_idx]\n",
    "\n",
    "    with open(INPUT_FILE, encoding=\"utf-8\") as file_obj:\n",
    "        for motion in map(lambda line: line.strip(), file_obj.readlines()):\n",
    "            direction, steps = motion.split(\" \")\n",
    "            for _ in range(int(steps)):\n",
    "                if direction == \"U\":\n",
    "                    rope[0].set_pos(\n",
    "                        [rope[0].pos[0]+1, rope[0].pos[1]]\n",
    "                    )\n",
    "                elif direction == \"R\":\n",
    "                    rope[0].set_pos(\n",
    "                        [rope[0].pos[0], rope[0].pos[1]+1]\n",
    "                    )\n",
    "                elif direction == \"D\":\n",
    "                    rope[0].set_pos(\n",
    "                        [rope[0].pos[0]-1, rope[0].pos[1]]\n",
    "                    )\n",
    "                elif direction == \"L\":\n",
    "                    rope[0].set_pos(\n",
    "                        [rope[0].pos[0], rope[0].pos[1]-1]\n",
    "                    )\n",
    "                else:\n",
    "                    raise RuntimeError(\"unexpected error!\")\n",
    "\n",
    "    LOGGER.debug(\"visited positions: %s\\n\", rope[-1].visited_poss)\n",
    "\n",
    "    print(f\"solution: {len(rope[-1].visited_poss)}\")"
   ]
  },
  {
   "cell_type": "code",
   "execution_count": 7,
   "id": "cf29e768",
   "metadata": {},
   "outputs": [
    {
     "name": "stdout",
     "output_type": "stream",
     "text": [
      "solution: 1\n"
     ]
    }
   ],
   "source": [
    "if __name__ == \"__main__\":\n",
    "    LOGGER.setLevel(logging.DEBUG if SHOW_DEBUG_LOG else logging.INFO)\n",
    "    log_formatter = logging.Formatter(\"%(message)s\")\n",
    "    log_handler = logging.StreamHandler(sys.stdout)\n",
    "    log_handler.setFormatter(log_formatter)\n",
    "    LOGGER.addHandler(log_handler)\n",
    "    main()"
   ]
  }
 ],
 "metadata": {
  "kernelspec": {
   "display_name": "Python 3 (ipykernel)",
   "language": "python",
   "name": "python3"
  },
  "language_info": {
   "codemirror_mode": {
    "name": "ipython",
    "version": 3
   },
   "file_extension": ".py",
   "mimetype": "text/x-python",
   "name": "python",
   "nbconvert_exporter": "python",
   "pygments_lexer": "ipython3",
   "version": "3.9.5"
  }
 },
 "nbformat": 4,
 "nbformat_minor": 5
}
