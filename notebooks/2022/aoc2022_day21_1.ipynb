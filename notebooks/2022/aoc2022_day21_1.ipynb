{
 "cells": [
  {
   "cell_type": "markdown",
   "id": "81358d21",
   "metadata": {},
   "source": [
    "# AOC2022"
   ]
  },
  {
   "cell_type": "markdown",
   "id": "9d447890",
   "metadata": {},
   "source": [
    "## Day 21 / Part 1 / Monkey Math"
   ]
  },
  {
   "cell_type": "markdown",
   "id": "32aaf5c6",
   "metadata": {},
   "source": [
    "Problem Description: https://adventofcode.com/2022/day/21\n",
    "\n",
    "Input: [Example](aoc2022_day21_example.txt)"
   ]
  },
  {
   "cell_type": "code",
   "execution_count": 1,
   "id": "fc6a1ff6",
   "metadata": {},
   "outputs": [],
   "source": [
    "%load_ext pycodestyle_magic\n",
    "%pycodestyle_on"
   ]
  },
  {
   "cell_type": "code",
   "execution_count": 2,
   "id": "baf1301e",
   "metadata": {},
   "outputs": [],
   "source": [
    "\"\"\"Solution for AOC2022, day 21, part 1.\"\"\"\n",
    "import json\n",
    "import logging\n",
    "import sys\n",
    "\n",
    "LOGGER = logging.getLogger(__name__)\n",
    "\n",
    "# show/hide debug logs\n",
    "SHOW_DEBUG_LOG = False\n",
    "# set input file\n",
    "INPUT_FILE = \"aoc2022_day21_example.txt\""
   ]
  },
  {
   "cell_type": "code",
   "execution_count": 3,
   "id": "9d0959f9",
   "metadata": {},
   "outputs": [],
   "source": [
    "class JobEvaluator:\n",
    "    \"\"\"Evaluator for monkey jobs.\"\"\"\n",
    "    # pylint: disable=R0903\n",
    "    jobs = None\n",
    "\n",
    "    def __init__(self, jobs):\n",
    "        self.jobs = jobs\n",
    "\n",
    "    def eval(self, is_oper, lhs, oper, rhs):\n",
    "        \"\"\"Evaluate the job of a monkey.\"\"\"\n",
    "        if not is_oper:\n",
    "            return lhs\n",
    "\n",
    "        lhs = self.eval(*self.jobs[lhs])\n",
    "        rhs = self.eval(*self.jobs[rhs])\n",
    "\n",
    "        if oper == \"+\":\n",
    "            return lhs + rhs\n",
    "        if oper == \"-\":\n",
    "            return lhs - rhs\n",
    "        if oper == \"*\":\n",
    "            return lhs * rhs\n",
    "        if oper == \"/\":\n",
    "            return lhs / rhs\n",
    "\n",
    "        raise ValueError(\"Unknown operation!\")"
   ]
  },
  {
   "cell_type": "code",
   "execution_count": 4,
   "id": "268bf27c",
   "metadata": {},
   "outputs": [],
   "source": [
    "def main():\n",
    "    \"\"\"Main function to solve puzzle.\"\"\"\n",
    "    jobs = {}\n",
    "    with open(INPUT_FILE, encoding=\"utf-8\") as file_obj:\n",
    "        for line in [line.rstrip() for line in file_obj.readlines()]:\n",
    "            monkey, lhs = line.split(\": \")\n",
    "            try:\n",
    "                lhs = int(lhs)\n",
    "                oper, rhs = None, None\n",
    "            except ValueError:\n",
    "                lhs, oper, rhs = lhs.split(\" \")\n",
    "            jobs[monkey] = (\n",
    "                oper is not None,\n",
    "                lhs, oper, rhs\n",
    "            )\n",
    "\n",
    "    LOGGER.debug(\n",
    "        \"jobs: %s\\n\",\n",
    "        json.dumps(\n",
    "            {\n",
    "                monkey: {\n",
    "                    \"is operation\": is_oper,\n",
    "                    \"job\": f\"{lhs} {oper} {rhs}\" if is_oper else f\"{lhs}\"\n",
    "                } for monkey, (is_oper, lhs, oper, rhs) in jobs.items()\n",
    "            }, indent=2\n",
    "        )\n",
    "    )\n",
    "\n",
    "    job_evaluator = JobEvaluator(jobs)\n",
    "    solution = job_evaluator.eval(*jobs[\"root\"])\n",
    "\n",
    "    print(f\"solution: {solution}\")"
   ]
  },
  {
   "cell_type": "code",
   "execution_count": 5,
   "id": "7c51a710",
   "metadata": {},
   "outputs": [
    {
     "name": "stdout",
     "output_type": "stream",
     "text": [
      "solution: 152.0\n"
     ]
    }
   ],
   "source": [
    "if __name__ == \"__main__\":\n",
    "    LOGGER.setLevel(logging.DEBUG if SHOW_DEBUG_LOG else logging.INFO)\n",
    "    log_formatter = logging.Formatter(\"%(message)s\")\n",
    "    log_handler = logging.StreamHandler(sys.stdout)\n",
    "    log_handler.setFormatter(log_formatter)\n",
    "    LOGGER.addHandler(log_handler)\n",
    "    main()"
   ]
  }
 ],
 "metadata": {
  "kernelspec": {
   "display_name": "Python 3 (ipykernel)",
   "language": "python",
   "name": "python3"
  },
  "language_info": {
   "codemirror_mode": {
    "name": "ipython",
    "version": 3
   },
   "file_extension": ".py",
   "mimetype": "text/x-python",
   "name": "python",
   "nbconvert_exporter": "python",
   "pygments_lexer": "ipython3",
   "version": "3.9.5"
  }
 },
 "nbformat": 4,
 "nbformat_minor": 5
}
