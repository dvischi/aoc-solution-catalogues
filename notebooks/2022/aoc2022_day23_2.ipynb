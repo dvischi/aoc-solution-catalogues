{
 "cells": [
  {
   "cell_type": "markdown",
   "id": "81358d21",
   "metadata": {},
   "source": [
    "# AOC2022"
   ]
  },
  {
   "cell_type": "markdown",
   "id": "9d447890",
   "metadata": {},
   "source": [
    "## Day 23 / Part 2 / Unstable Diffusion"
   ]
  },
  {
   "cell_type": "markdown",
   "id": "32aaf5c6",
   "metadata": {},
   "source": [
    "Problem Description: https://adventofcode.com/2022/day/23#part2\n",
    "\n",
    "Input: [Example](aoc2022_day23_example.txt)"
   ]
  },
  {
   "cell_type": "code",
   "execution_count": 1,
   "id": "041bdec5",
   "metadata": {},
   "outputs": [],
   "source": [
    "%load_ext pycodestyle_magic\n",
    "%pycodestyle_on"
   ]
  },
  {
   "cell_type": "code",
   "execution_count": 2,
   "id": "1f554f05",
   "metadata": {},
   "outputs": [],
   "source": [
    "\"\"\"Solution for AOC2022, day 23, part 2.\"\"\"\n",
    "import logging\n",
    "import sys\n",
    "import numpy as np\n",
    "\n",
    "LOGGER = logging.getLogger(__name__)\n",
    "\n",
    "# show/hide debug logs\n",
    "SHOW_DEBUG_LOG = False\n",
    "# set input file\n",
    "INPUT_FILE = \"aoc2022_day23_example.txt\""
   ]
  },
  {
   "cell_type": "code",
   "execution_count": 3,
   "id": "3a32d97a",
   "metadata": {},
   "outputs": [],
   "source": [
    "def build_grove_map(elf_pos_set):\n",
    "    \"\"\"Build the grove map from a set of elf positions.\"\"\"\n",
    "    min_y_pos = min(elf_pos[0] for elf_pos in elf_pos_set)\n",
    "    max_y_pos = max(elf_pos[0] for elf_pos in elf_pos_set)\n",
    "    min_x_pos = min(elf_pos[1] for elf_pos in elf_pos_set)\n",
    "    max_x_pos = max(elf_pos[1] for elf_pos in elf_pos_set)\n",
    "\n",
    "    grove_map = np.zeros(\n",
    "        (max_y_pos - min_y_pos + 1, max_x_pos - min_x_pos + 1)\n",
    "    )\n",
    "\n",
    "    for elf_pos in elf_pos_set:\n",
    "        grove_map[\n",
    "            elf_pos[0]-min_y_pos, elf_pos[1]-min_x_pos\n",
    "        ] = 1\n",
    "    return grove_map\n",
    "\n",
    "\n",
    "def calc_next_pos(elf_pos_set, elf_pos, order):\n",
    "    \"\"\"\n",
    "    Calculate the next position of an elf starting at elf_pos\n",
    "    with a given direction order.\n",
    "    \"\"\"\n",
    "    y_pos, x_pos = elf_pos\n",
    "    n_pos_empty = (y_pos-1, x_pos) not in elf_pos_set\n",
    "    ne_pos_empty = (y_pos-1, x_pos+1) not in elf_pos_set\n",
    "    e_pos_empty = (y_pos, x_pos+1) not in elf_pos_set\n",
    "    se_pos_empty = (y_pos+1, x_pos+1) not in elf_pos_set\n",
    "    s_pos_empty = (y_pos+1, x_pos) not in elf_pos_set\n",
    "    sw_pos_empty = (y_pos+1, x_pos-1) not in elf_pos_set\n",
    "    w_pos_empty = (y_pos, x_pos-1) not in elf_pos_set\n",
    "    nw_pos_empty = (y_pos-1, x_pos-1) not in elf_pos_set\n",
    "\n",
    "    if all([\n",
    "        n_pos_empty,\n",
    "        ne_pos_empty,\n",
    "        e_pos_empty,\n",
    "        se_pos_empty,\n",
    "        s_pos_empty,\n",
    "        sw_pos_empty,\n",
    "        w_pos_empty,\n",
    "        nw_pos_empty,\n",
    "    ]):\n",
    "        return None\n",
    "\n",
    "    candidates = []\n",
    "    for order_id in range(order, order+4):\n",
    "        if order_id % 4 == 0:\n",
    "            # check north\n",
    "            if (\n",
    "                nw_pos_empty and\n",
    "                n_pos_empty and\n",
    "                ne_pos_empty\n",
    "            ):\n",
    "                candidates.append((y_pos-1, x_pos))\n",
    "        elif order_id % 4 == 1:\n",
    "            # check south\n",
    "            if (\n",
    "                sw_pos_empty and\n",
    "                s_pos_empty and\n",
    "                se_pos_empty\n",
    "            ):\n",
    "                candidates.append((y_pos+1, x_pos))\n",
    "        elif order_id % 4 == 2:\n",
    "            # check west\n",
    "            if (\n",
    "                nw_pos_empty and\n",
    "                w_pos_empty and\n",
    "                sw_pos_empty\n",
    "            ):\n",
    "                candidates.append((y_pos, x_pos-1))\n",
    "        elif order_id % 4 == 3:\n",
    "            # check east\n",
    "            if (\n",
    "                ne_pos_empty and\n",
    "                e_pos_empty and\n",
    "                se_pos_empty\n",
    "            ):\n",
    "                candidates.append((y_pos, x_pos+1))\n",
    "\n",
    "    if len(candidates) == 0:\n",
    "        return None\n",
    "    return candidates[0]\n",
    "\n",
    "\n",
    "def do_round(elf_pos_set, order):\n",
    "    \"\"\"Execute one round of the time-consuming process.\"\"\"\n",
    "    next_elf_pos_map = {}\n",
    "    for elf_pos in elf_pos_set:\n",
    "        next_elf_pos = calc_next_pos(elf_pos_set, elf_pos, order)\n",
    "        if next_elf_pos not in next_elf_pos_map:\n",
    "            next_elf_pos_map[next_elf_pos] = []\n",
    "        next_elf_pos_map[next_elf_pos].append(elf_pos)\n",
    "    for next_elf_pos, prev_elf_pos_list in next_elf_pos_map.items():\n",
    "        if len(prev_elf_pos_list) == 1:\n",
    "            prev_elf_pos = prev_elf_pos_list[0]\n",
    "            elf_pos_set.remove(prev_elf_pos)\n",
    "            elf_pos_set.add(next_elf_pos)"
   ]
  },
  {
   "cell_type": "code",
   "execution_count": 4,
   "id": "580b5656",
   "metadata": {},
   "outputs": [],
   "source": [
    "def main():\n",
    "    \"\"\"Main function to solve puzzle.\"\"\"\n",
    "    elf_pos_set = set()\n",
    "    with open(INPUT_FILE, encoding=\"utf-8\") as file_obj:\n",
    "        for y_pos, line in enumerate(\n",
    "            [line.rstrip() for line in file_obj.readlines()]\n",
    "        ):\n",
    "            for x_pos, cell in enumerate(line):\n",
    "                if cell == \"#\":\n",
    "                    elf_pos_set.add((y_pos, x_pos))\n",
    "\n",
    "    LOGGER.debug(\"run process...\")\n",
    "    for rid in range(10000):\n",
    "        if rid % 100 == 0:\n",
    "            LOGGER.debug(\n",
    "                \"  grove map after round %s:\\n  %s\\n\",\n",
    "                rid+1, str(build_grove_map(elf_pos_set)).replace(\"\\n\", \"\\n  \")\n",
    "            )\n",
    "        old_elf_pos_set = elf_pos_set.copy()\n",
    "        do_round(elf_pos_set, rid % 4)\n",
    "        if old_elf_pos_set == elf_pos_set:\n",
    "            break\n",
    "\n",
    "    LOGGER.debug(\n",
    "        \"  grove map after round %s:\\n  %s\\n\",\n",
    "        rid+1, str(build_grove_map(elf_pos_set)).replace(\"\\n\", \"\\n  \")\n",
    "    )\n",
    "\n",
    "    print(f\"solution: {rid+1}\")"
   ]
  },
  {
   "cell_type": "code",
   "execution_count": 5,
   "id": "7bff7ebf",
   "metadata": {},
   "outputs": [
    {
     "name": "stdout",
     "output_type": "stream",
     "text": [
      "solution: 20\n"
     ]
    }
   ],
   "source": [
    "if __name__ == \"__main__\":\n",
    "    LOGGER.setLevel(logging.DEBUG if SHOW_DEBUG_LOG else logging.INFO)\n",
    "    log_formatter = logging.Formatter(\"%(message)s\")\n",
    "    log_handler = logging.StreamHandler(sys.stdout)\n",
    "    log_handler.setFormatter(log_formatter)\n",
    "    LOGGER.addHandler(log_handler)\n",
    "    main()"
   ]
  }
 ],
 "metadata": {
  "kernelspec": {
   "display_name": "Python 3 (ipykernel)",
   "language": "python",
   "name": "python3"
  },
  "language_info": {
   "codemirror_mode": {
    "name": "ipython",
    "version": 3
   },
   "file_extension": ".py",
   "mimetype": "text/x-python",
   "name": "python",
   "nbconvert_exporter": "python",
   "pygments_lexer": "ipython3",
   "version": "3.9.5"
  }
 },
 "nbformat": 4,
 "nbformat_minor": 5
}
