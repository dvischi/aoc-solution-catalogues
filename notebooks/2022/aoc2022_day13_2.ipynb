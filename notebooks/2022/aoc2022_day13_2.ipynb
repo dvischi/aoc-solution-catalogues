{
 "cells": [
  {
   "cell_type": "markdown",
   "id": "81358d21",
   "metadata": {},
   "source": [
    "# AOC2022"
   ]
  },
  {
   "cell_type": "markdown",
   "id": "9d447890",
   "metadata": {},
   "source": [
    "## Day 13 / Part 2 / Distress Signal"
   ]
  },
  {
   "cell_type": "markdown",
   "id": "32aaf5c6",
   "metadata": {},
   "source": [
    "Problem Description: https://adventofcode.com/2022/day/13#part2\n",
    "\n",
    "Input: [Example](aoc2022_day13_example.txt)"
   ]
  },
  {
   "cell_type": "markdown",
   "id": "5b18e686",
   "metadata": {},
   "source": [
    "### Notes\n",
    "- This solution uses the unsecure `eval` function which is neat for a coding challenge but should be avoided in a real project!"
   ]
  },
  {
   "cell_type": "code",
   "execution_count": 1,
   "id": "ce1a8d97",
   "metadata": {},
   "outputs": [],
   "source": [
    "%load_ext pycodestyle_magic\n",
    "%pycodestyle_on"
   ]
  },
  {
   "cell_type": "code",
   "execution_count": 2,
   "id": "1f554f05",
   "metadata": {},
   "outputs": [],
   "source": [
    "\"\"\"Solution for AOC2022, day 13, part 2.\"\"\"\n",
    "from functools import cmp_to_key\n",
    "import logging\n",
    "import sys\n",
    "\n",
    "LOGGER = logging.getLogger(__name__)\n",
    "\n",
    "# show/hide debug logs\n",
    "SHOW_DEBUG_LOG = False\n",
    "# set input file\n",
    "INPUT_FILE = \"aoc2022_day13_example.txt\""
   ]
  },
  {
   "cell_type": "code",
   "execution_count": 3,
   "id": "23b7f00c",
   "metadata": {},
   "outputs": [],
   "source": [
    "def compare(lhs, rhs, depth=0):\n",
    "    \"\"\"Compare a left-hand side packet with a right-hand side packet.\"\"\"\n",
    "    if depth == 0:\n",
    "        LOGGER.debug(\"  compare %s with %s...\", lhs, rhs)\n",
    "    order = _compare(lhs, rhs, depth)\n",
    "    if order == -1:\n",
    "        LOGGER.debug(\"    %s < %s\", lhs, rhs)\n",
    "    elif order == 1:\n",
    "        LOGGER.debug(\"    %s > %s\", lhs, rhs)\n",
    "    else:\n",
    "        LOGGER.debug(\"    %s == %s\", lhs, rhs)\n",
    "    return order\n",
    "\n",
    "\n",
    "def _compare(lhs, rhs, depth=0):\n",
    "    \"\"\"Helper function for compare(lhs, rhs, depth=0).\"\"\"\n",
    "    if isinstance(lhs, int):\n",
    "        lhs = [lhs]\n",
    "    if isinstance(rhs, int):\n",
    "        rhs = [rhs]\n",
    "\n",
    "    for idx in range(min(len(lhs), len(rhs))):\n",
    "        lhs_val = lhs[idx]\n",
    "        rhs_val = rhs[idx]\n",
    "        LOGGER.debug(\n",
    "            \"%scheck %s <= %s...\",\n",
    "            \" \" * ((2 + depth) * 2), lhs_val, rhs_val\n",
    "        )\n",
    "        if isinstance(lhs_val, int) and isinstance(rhs_val, int):\n",
    "            if lhs_val < rhs_val:\n",
    "                return -1\n",
    "            if lhs_val > rhs_val:\n",
    "                return 1\n",
    "        else:\n",
    "            order = _compare(lhs_val, rhs_val, depth+1)\n",
    "            if order == 0:\n",
    "                continue  # compare the next values\n",
    "            return order\n",
    "    if len(lhs) < len(rhs):\n",
    "        return -1\n",
    "    if len(lhs) > len(rhs):\n",
    "        return 1\n",
    "    return 0"
   ]
  },
  {
   "cell_type": "code",
   "execution_count": 4,
   "id": "15cc4127",
   "metadata": {
    "scrolled": true
   },
   "outputs": [],
   "source": [
    "def main():\n",
    "    \"\"\"Main function to solve puzzle.\"\"\"\n",
    "    # pylint: disable=W0123,W0612\n",
    "    with open(INPUT_FILE, encoding=\"utf-8\") as file_obj:\n",
    "        packets = [\n",
    "            line.rstrip() for line in file_obj.readlines()\n",
    "            if line.rstrip() != \"\"\n",
    "        ]\n",
    "        packets.append(\"[[2]]\")\n",
    "        packets.append(\"[[6]]\")\n",
    "        packets = map(eval, packets)\n",
    "\n",
    "        LOGGER.debug(\"sort packages...\")\n",
    "\n",
    "        packets = sorted(packets, key=cmp_to_key(compare))\n",
    "\n",
    "    LOGGER.debug(\"\")\n",
    "\n",
    "    print(\n",
    "        f\"solution: {(packets.index([[2]]) + 1) * (packets.index([[6]]) + 1)}\"\n",
    "    )"
   ]
  },
  {
   "cell_type": "code",
   "execution_count": 5,
   "id": "e61d0b48",
   "metadata": {},
   "outputs": [
    {
     "name": "stdout",
     "output_type": "stream",
     "text": [
      "solution: 140\n"
     ]
    }
   ],
   "source": [
    "if __name__ == \"__main__\":\n",
    "    LOGGER.setLevel(logging.DEBUG if SHOW_DEBUG_LOG else logging.INFO)\n",
    "    log_formatter = logging.Formatter(\"%(message)s\")\n",
    "    log_handler = logging.StreamHandler(sys.stdout)\n",
    "    log_handler.setFormatter(log_formatter)\n",
    "    LOGGER.addHandler(log_handler)\n",
    "    main()"
   ]
  }
 ],
 "metadata": {
  "kernelspec": {
   "display_name": "Python 3 (ipykernel)",
   "language": "python",
   "name": "python3"
  },
  "language_info": {
   "codemirror_mode": {
    "name": "ipython",
    "version": 3
   },
   "file_extension": ".py",
   "mimetype": "text/x-python",
   "name": "python",
   "nbconvert_exporter": "python",
   "pygments_lexer": "ipython3",
   "version": "3.9.5"
  }
 },
 "nbformat": 4,
 "nbformat_minor": 5
}
