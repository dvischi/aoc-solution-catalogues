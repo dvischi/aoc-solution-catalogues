{
 "cells": [
  {
   "cell_type": "markdown",
   "id": "81358d21",
   "metadata": {},
   "source": [
    "# AOC2022"
   ]
  },
  {
   "cell_type": "markdown",
   "id": "9d447890",
   "metadata": {},
   "source": [
    "## Day 15 / Part 1 / Beacon Exclusion Zone"
   ]
  },
  {
   "cell_type": "markdown",
   "id": "32aaf5c6",
   "metadata": {},
   "source": [
    "Problem Description: https://adventofcode.com/2022/day/15\n",
    "\n",
    "Input: [Example](aoc2022_day15_example.txt)"
   ]
  },
  {
   "cell_type": "markdown",
   "id": "d021b36c",
   "metadata": {},
   "source": [
    "### Notes\n",
    "- The intersection between a [diamond](https://mathworld.wolfram.com/Diamond.html) at $(center_y, center_x)$ with radius $r$ and a horizonzal line at $y$ can be expressed as follows:\n",
    "<table style=\"width: 600px; margin-left: 0; margin-top: 0px;\">\n",
    "    <tr style=\"visibility: hidden;\">\n",
    "        <th style=\"width: 20px;\"></th>\n",
    "        <th style=\"width: 280px;\"></th>\n",
    "        <th style=\"width: 20px;\"></th>\n",
    "        <th style=\"width: 280px;\"></th>\n",
    "    </tr>\n",
    "    <tr>\n",
    "        <td colspan=\"4\" style=\"background-color: white;\">\n",
    "            $$\n",
    "            |x - center_x| + |y - center_y| <= r \\\\\n",
    "            |x - center_x| <= r - |y - center_y|\n",
    "            $$\n",
    "        </td>\n",
    "    </tr>\n",
    "    <tr>\n",
    "        <td style=\"text-align: left; background-color: white;\">\n",
    "            $\\implies$\n",
    "        </td>\n",
    "        <td style=\"text-align: left; background-color: white;\">\n",
    "            $$\n",
    "            x_1 - center_x <= r - |y - center_y| \\\\\n",
    "            x_1 <= r - |y - center_y| + center_x\n",
    "            $$\n",
    "        </td>\n",
    "        <td style=\"text-align: left; background-color: white;\">\n",
    "            $\\implies$\n",
    "        </td>\n",
    "        <td style=\"text-align: left; background-color: white;\">\n",
    "            $$\n",
    "            -x_2 + center_x <= r - |y - center_y| \\\\\n",
    "            -x_2 <= r - |y - center_y| - center_x \\\\\n",
    "            x_2 >= -r + |y - center_y| + center_x\n",
    "            $$\n",
    "        </td>\n",
    "    </tr>\n",
    "</table>\n",
    "  Hence, we can find two intersections at $(y, x1)$ and $(y, x2)$.<br/>\n",
    "  <br/>\n",
    "  Example: Intersection between a diamond at $(center_y=8, center_x=10)$ with radius $r=6$ and a horizonzal line at $y=12$:\n",
    "  <img src=\"aoc2022_day15_notes.png\" width=\"600\" style=\"margin: 0px;\"/>\n",
    "<table style=\"width: 600px; margin-left: 0; margin-top: 0px;\">\n",
    "    <tr style=\"visibility: hidden;\">\n",
    "        <th style=\"width: 20px;\"></th>\n",
    "        <th style=\"width: 280px;\"></th>\n",
    "        <th style=\"width: 20px;\"></th>\n",
    "        <th style=\"width: 280px;\"></th>\n",
    "    </tr>\n",
    "    <tr>\n",
    "        <td colspan=\"4\" style=\"background-color: white;\">\n",
    "            $$\n",
    "            |x - center_x | + |y - center_y| <= r \\\\\n",
    "            |x - 10| + |y - 8| <= 6\n",
    "            $$\n",
    "        </td>\n",
    "    </tr>\n",
    "    <tr>\n",
    "        <td style=\"text-align: left; background-color: white;\">\n",
    "            $\\implies$\n",
    "        </td>\n",
    "        <td style=\"text-align: left; background-color: white;\">\n",
    "            $$\n",
    "            x_1 <= r - |y - center_y| + center_x \\\\\n",
    "            x_1 <= 6 - |12 - 8| + 10 \\\\\n",
    "            x_1 <= 12\n",
    "            $$\n",
    "        </td>\n",
    "        <td style=\"text-align: left; background-color: white;\">\n",
    "            $\\implies$\n",
    "        </td>\n",
    "        <td style=\"text-align: left; background-color: white;\">\n",
    "            $$\n",
    "            x_2 >= -r + |y - center_y| + center_x \\\\\n",
    "            x_2 >= -6 + |12 - 8| + 10 \\\\\n",
    "            x_2 >= 8\n",
    "            $$\n",
    "        </td>\n",
    "    </tr>\n",
    "</table>"
   ]
  },
  {
   "cell_type": "code",
   "execution_count": 1,
   "id": "c25edfbf",
   "metadata": {},
   "outputs": [],
   "source": [
    "%load_ext pycodestyle_magic\n",
    "%pycodestyle_on"
   ]
  },
  {
   "cell_type": "code",
   "execution_count": 2,
   "id": "1f554f05",
   "metadata": {},
   "outputs": [],
   "source": [
    "\"\"\"Solution for AOC2022, day 15, part 1.\"\"\"\n",
    "import logging\n",
    "import re\n",
    "import sys\n",
    "import numpy as np\n",
    "\n",
    "LOGGER = logging.getLogger(__name__)\n",
    "\n",
    "# show/hide debug logs\n",
    "SHOW_DEBUG_LOG = False\n",
    "# set input file\n",
    "INPUT_FILE = \"aoc2022_day15_example.txt\""
   ]
  },
  {
   "cell_type": "code",
   "execution_count": 3,
   "id": "4651b951",
   "metadata": {},
   "outputs": [],
   "source": [
    "ROW = 10"
   ]
  },
  {
   "cell_type": "code",
   "execution_count": 4,
   "id": "63d276ee",
   "metadata": {},
   "outputs": [],
   "source": [
    "class SensorField:\n",
    "    \"\"\"\n",
    "    Diamond scanning field of a sensor which contains only a single beacon.\n",
    "    \"\"\"\n",
    "    pos = None\n",
    "    radius = None\n",
    "\n",
    "    def __init__(self, pos, radius):\n",
    "        self.pos = pos\n",
    "        self.radius = radius\n",
    "\n",
    "    def does_intersect(self, row):\n",
    "        \"\"\"Check if a row intersects the field.\"\"\"\n",
    "        return manhattan_dist(self.pos, [row, self.pos[1]]) <= self.radius\n",
    "\n",
    "    def intersect(self, row):\n",
    "        \"\"\"\n",
    "        Calculate the (min_x, max_x, range) of the intersection between\n",
    "        a row and the field.\n",
    "        \"\"\"\n",
    "        min_x = -self.radius + abs(row - self.pos[0]) + self.pos[1]\n",
    "        max_x = self.radius - abs(row - self.pos[0]) + self.pos[1]\n",
    "        return min_x, max_x, max_x - min_x"
   ]
  },
  {
   "cell_type": "code",
   "execution_count": 5,
   "id": "e97e4f89",
   "metadata": {},
   "outputs": [],
   "source": [
    "def manhattan_dist(point1, point2):\n",
    "    \"\"\"Calculate manhattan distance between point1 and point2.\"\"\"\n",
    "    return abs(point1[0] - point2[0]) + abs(point1[1] - point2[1])"
   ]
  },
  {
   "cell_type": "code",
   "execution_count": 6,
   "id": "15cc4127",
   "metadata": {
    "scrolled": true
   },
   "outputs": [],
   "source": [
    "def main():\n",
    "    \"\"\"Main function to solve puzzle.\"\"\"\n",
    "    min_x, max_x = np.inf, -np.inf\n",
    "    with open(INPUT_FILE, encoding=\"utf-8\") as file_obj:\n",
    "        LOGGER.debug(\"read input...\")\n",
    "        for line in [line.rstrip() for line in file_obj.readlines()]:\n",
    "            (\n",
    "                sensor_x_pos, sensor_y_pos,\n",
    "                beacon_x_pos, beacon_y_pos\n",
    "            ) = map(int, re.search(\n",
    "                r\"Sensor at x=([-]?\\d+), y=([-]?\\d+): \" +\n",
    "                r\"closest beacon is at x=([-]?\\d+), y=([-]?\\d+)\",\n",
    "                line\n",
    "            ).groups())\n",
    "\n",
    "            sensor_pos = (sensor_y_pos, sensor_x_pos)\n",
    "            beacon_pos = (beacon_y_pos, beacon_x_pos)\n",
    "\n",
    "            LOGGER.debug(\n",
    "                \"  check sensor %s with closest beacon at %s...\",\n",
    "                sensor_pos, beacon_pos\n",
    "            )\n",
    "\n",
    "            sensor_field = SensorField(\n",
    "                sensor_pos, manhattan_dist(sensor_pos, beacon_pos)\n",
    "            )\n",
    "            if sensor_field.does_intersect(ROW):\n",
    "                LOGGER.debug(\"    found intersection with row %s\", ROW)\n",
    "                inter_min_x, inter_max_x, _ = sensor_field.intersect(ROW)\n",
    "                min_x = min(min_x, inter_min_x)\n",
    "                max_x = max(max_x, inter_max_x)\n",
    "            else:\n",
    "                LOGGER.debug(\"    found no intersection with row %s\", ROW)\n",
    "\n",
    "    LOGGER.debug(\"\")\n",
    "\n",
    "    print(f\"solution: {max_x - min_x}\")"
   ]
  },
  {
   "cell_type": "code",
   "execution_count": 7,
   "id": "0d972a08",
   "metadata": {},
   "outputs": [
    {
     "name": "stdout",
     "output_type": "stream",
     "text": [
      "solution: 26\n"
     ]
    }
   ],
   "source": [
    "if __name__ == \"__main__\":\n",
    "    LOGGER.setLevel(logging.DEBUG if SHOW_DEBUG_LOG else logging.INFO)\n",
    "    log_formatter = logging.Formatter(\"%(message)s\")\n",
    "    log_handler = logging.StreamHandler(sys.stdout)\n",
    "    log_handler.setFormatter(log_formatter)\n",
    "    LOGGER.addHandler(log_handler)\n",
    "    main()"
   ]
  }
 ],
 "metadata": {
  "kernelspec": {
   "display_name": "Python 3 (ipykernel)",
   "language": "python",
   "name": "python3"
  },
  "language_info": {
   "codemirror_mode": {
    "name": "ipython",
    "version": 3
   },
   "file_extension": ".py",
   "mimetype": "text/x-python",
   "name": "python",
   "nbconvert_exporter": "python",
   "pygments_lexer": "ipython3",
   "version": "3.9.5"
  }
 },
 "nbformat": 4,
 "nbformat_minor": 5
}
