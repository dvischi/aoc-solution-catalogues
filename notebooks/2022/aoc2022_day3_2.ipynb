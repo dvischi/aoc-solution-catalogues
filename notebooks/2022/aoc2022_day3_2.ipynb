{
 "cells": [
  {
   "cell_type": "markdown",
   "id": "81358d21",
   "metadata": {},
   "source": [
    "# AOC2022"
   ]
  },
  {
   "cell_type": "markdown",
   "id": "9d447890",
   "metadata": {},
   "source": [
    "## Day 3 / Part 2 / Rucksack Reorganization"
   ]
  },
  {
   "cell_type": "markdown",
   "id": "32aaf5c6",
   "metadata": {},
   "source": [
    "Problem Description: https://adventofcode.com/2022/day/3#part2\n",
    "\n",
    "Input: [Example](aoc2022_day3_example.txt)"
   ]
  },
  {
   "cell_type": "code",
   "execution_count": 1,
   "id": "b1813190",
   "metadata": {},
   "outputs": [],
   "source": [
    "%load_ext pycodestyle_magic\n",
    "%pycodestyle_on"
   ]
  },
  {
   "cell_type": "code",
   "execution_count": 2,
   "id": "1f554f05",
   "metadata": {},
   "outputs": [],
   "source": [
    "\"\"\"Solution for AOC2022, day 3, part 2.\"\"\"\n",
    "import logging\n",
    "import sys\n",
    "\n",
    "LOGGER = logging.getLogger(__name__)\n",
    "\n",
    "# show/hide debug logs\n",
    "SHOW_DEBUG_LOG = False\n",
    "# set input file\n",
    "INPUT_FILE = \"aoc2022_day3_example.txt\""
   ]
  },
  {
   "cell_type": "code",
   "execution_count": 3,
   "id": "8b1c437a",
   "metadata": {},
   "outputs": [],
   "source": [
    "ITEM_TYPE_MAP = {}\n",
    "for i, c in enumerate(range(97, 123)):\n",
    "    ITEM_TYPE_MAP[chr(c)] = i+1\n",
    "for i, c in enumerate(range(65, 91)):\n",
    "    ITEM_TYPE_MAP[chr(c)] = i+27"
   ]
  },
  {
   "cell_type": "code",
   "execution_count": 4,
   "id": "15cc4127",
   "metadata": {
    "scrolled": true
   },
   "outputs": [],
   "source": [
    "def main():\n",
    "    \"\"\"Main function to solve puzzle.\"\"\"\n",
    "    LOGGER.debug(\"item type map: %s\\n\", ITEM_TYPE_MAP)\n",
    "\n",
    "    group = []\n",
    "    item_types = []\n",
    "    with open(INPUT_FILE, encoding=\"utf-8\") as file_obj:\n",
    "        for rucksack_id, rucksack in enumerate(\n",
    "            map(lambda line: line.strip(), file_obj.readlines())\n",
    "        ):\n",
    "            group.append(rucksack)\n",
    "            if (rucksack_id+1) % 3 == 0:\n",
    "                item_type = list(\n",
    "                    set(group[0]).\n",
    "                    intersection(group[1]).\n",
    "                    intersection(group[2])\n",
    "                )[0]\n",
    "                item_types.append(item_type)\n",
    "                group = []\n",
    "\n",
    "    LOGGER.debug(\"item types: %s\\n\", item_types)\n",
    "\n",
    "    priority_sum = sum(\n",
    "        map(lambda item_type: ITEM_TYPE_MAP[item_type], item_types)\n",
    "    )\n",
    "    print(f\"solution: {priority_sum}\")"
   ]
  },
  {
   "cell_type": "code",
   "execution_count": 5,
   "id": "ebd2cbbc",
   "metadata": {},
   "outputs": [
    {
     "name": "stdout",
     "output_type": "stream",
     "text": [
      "solution: 70\n"
     ]
    }
   ],
   "source": [
    "if __name__ == \"__main__\":\n",
    "    LOGGER.setLevel(logging.DEBUG if SHOW_DEBUG_LOG else logging.INFO)\n",
    "    log_formatter = logging.Formatter(\"%(message)s\")\n",
    "    log_handler = logging.StreamHandler(sys.stdout)\n",
    "    log_handler.setFormatter(log_formatter)\n",
    "    LOGGER.addHandler(log_handler)\n",
    "    main()"
   ]
  }
 ],
 "metadata": {
  "kernelspec": {
   "display_name": "Python 3 (ipykernel)",
   "language": "python",
   "name": "python3"
  },
  "language_info": {
   "codemirror_mode": {
    "name": "ipython",
    "version": 3
   },
   "file_extension": ".py",
   "mimetype": "text/x-python",
   "name": "python",
   "nbconvert_exporter": "python",
   "pygments_lexer": "ipython3",
   "version": "3.9.5"
  }
 },
 "nbformat": 4,
 "nbformat_minor": 5
}
