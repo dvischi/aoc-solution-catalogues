{
 "cells": [
  {
   "cell_type": "markdown",
   "id": "81358d21",
   "metadata": {},
   "source": [
    "# AOC2022"
   ]
  },
  {
   "cell_type": "markdown",
   "id": "9d447890",
   "metadata": {},
   "source": [
    "## Day 5 / Part 2 / Supply Stacks"
   ]
  },
  {
   "cell_type": "markdown",
   "id": "32aaf5c6",
   "metadata": {},
   "source": [
    "Problem Description: https://adventofcode.com/2022/day/5#part2\n",
    "\n",
    "Input: [Example](aoc2022_day5_example.txt)"
   ]
  },
  {
   "cell_type": "code",
   "execution_count": 1,
   "id": "8c98e2a5",
   "metadata": {},
   "outputs": [],
   "source": [
    "%load_ext pycodestyle_magic\n",
    "%pycodestyle_on"
   ]
  },
  {
   "cell_type": "code",
   "execution_count": 2,
   "id": "1f554f05",
   "metadata": {},
   "outputs": [],
   "source": [
    "\"\"\"Solution for AOC2022, day 5, part 2.\"\"\"\n",
    "import logging\n",
    "import re\n",
    "import sys\n",
    "\n",
    "LOGGER = logging.getLogger(__name__)\n",
    "\n",
    "# show/hide debug logs\n",
    "SHOW_DEBUG_LOG = False\n",
    "# set input file\n",
    "INPUT_FILE = \"aoc2022_day5_example.txt\""
   ]
  },
  {
   "cell_type": "code",
   "execution_count": 3,
   "id": "15cc4127",
   "metadata": {
    "scrolled": true
   },
   "outputs": [],
   "source": [
    "def main():\n",
    "    \"\"\"Main function to solve puzzle.\"\"\"\n",
    "    stacks = []\n",
    "    moves = []\n",
    "    with open(INPUT_FILE, encoding=\"utf-8\") as file_obj:\n",
    "        # initialize stacks\n",
    "        for line in map(lambda line: line.rstrip(), file_obj.readlines()):\n",
    "            if len(line) > 2 and line[1] == \"1\":\n",
    "                stacks = [[] for _ in range((len(line) + 2) // 4)]\n",
    "                break\n",
    "\n",
    "        file_obj.seek(0)\n",
    "        for line in map(lambda line: line.rstrip(), file_obj.readlines()):\n",
    "            # parse drawing of the starting stacks of crates\n",
    "            if \"[\" in line:\n",
    "                for char in range((len(line) + 1) // 4):\n",
    "                    if line[char * 4 + 1] != \" \":\n",
    "                        stacks[char].append(line[char * 4 + 1])\n",
    "\n",
    "            # parse rearrangement procedure\n",
    "            if line.startswith(\"move\"):\n",
    "                moves.append(\n",
    "                    list(\n",
    "                        map(int, re.match(\n",
    "                            r\"move (\\d+) from (\\d+) to (\\d+)\", line\n",
    "                        ).groups())\n",
    "                    )\n",
    "                )\n",
    "\n",
    "    stacks = [list(reversed(stack)) for stack in stacks]\n",
    "\n",
    "    LOGGER.debug(\"stacks: %s\\n\", stacks)\n",
    "    LOGGER.debug(\"moves: %s\\n\", moves)\n",
    "\n",
    "    for crates, from_stack, to_stack in moves:\n",
    "        for _ in range(crates):\n",
    "            stacks[to_stack - 1].append(\n",
    "                stacks[from_stack - 1].pop(-1)\n",
    "            )\n",
    "        stacks[to_stack - 1][-crates:] = list(\n",
    "            reversed(stacks[to_stack - 1][-crates:])\n",
    "        )\n",
    "\n",
    "    top_crates = [stack[-1] for stack in stacks]\n",
    "    print(f\"solution: {top_crates}\")"
   ]
  },
  {
   "cell_type": "code",
   "execution_count": 4,
   "id": "9ee6fb65",
   "metadata": {},
   "outputs": [
    {
     "name": "stdout",
     "output_type": "stream",
     "text": [
      "solution: ['M', 'C', 'D']\n"
     ]
    }
   ],
   "source": [
    "if __name__ == \"__main__\":\n",
    "    LOGGER.setLevel(logging.DEBUG if SHOW_DEBUG_LOG else logging.INFO)\n",
    "    log_formatter = logging.Formatter(\"%(message)s\")\n",
    "    log_handler = logging.StreamHandler(sys.stdout)\n",
    "    log_handler.setFormatter(log_formatter)\n",
    "    LOGGER.addHandler(log_handler)\n",
    "    main()"
   ]
  }
 ],
 "metadata": {
  "kernelspec": {
   "display_name": "Python 3 (ipykernel)",
   "language": "python",
   "name": "python3"
  },
  "language_info": {
   "codemirror_mode": {
    "name": "ipython",
    "version": 3
   },
   "file_extension": ".py",
   "mimetype": "text/x-python",
   "name": "python",
   "nbconvert_exporter": "python",
   "pygments_lexer": "ipython3",
   "version": "3.9.5"
  }
 },
 "nbformat": 4,
 "nbformat_minor": 5
}
