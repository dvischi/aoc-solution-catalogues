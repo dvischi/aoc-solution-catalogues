{
 "cells": [
  {
   "cell_type": "markdown",
   "id": "81358d21",
   "metadata": {},
   "source": [
    "# AOC2022"
   ]
  },
  {
   "cell_type": "markdown",
   "id": "9d447890",
   "metadata": {},
   "source": [
    "## Day 18 / Part 1 / Boiling Boulders"
   ]
  },
  {
   "cell_type": "markdown",
   "id": "32aaf5c6",
   "metadata": {},
   "source": [
    "Problem Description: https://adventofcode.com/2022/day/18\n",
    "\n",
    "Input: [Example](aoc2022_day18_example.txt)"
   ]
  },
  {
   "cell_type": "code",
   "execution_count": 1,
   "id": "ad22ab1a",
   "metadata": {},
   "outputs": [],
   "source": [
    "%load_ext pycodestyle_magic\n",
    "%pycodestyle_on"
   ]
  },
  {
   "cell_type": "code",
   "execution_count": 2,
   "id": "5e844d04",
   "metadata": {},
   "outputs": [],
   "source": [
    "\"\"\"Solution for AOC2022, day 18, part 1.\"\"\"\n",
    "import logging\n",
    "import sys\n",
    "import numpy as np\n",
    "\n",
    "LOGGER = logging.getLogger(__name__)\n",
    "\n",
    "# show/hide debug logs\n",
    "SHOW_DEBUG_LOG = False\n",
    "# set input file\n",
    "INPUT_FILE = \"aoc2022_day18_example.txt\""
   ]
  },
  {
   "cell_type": "code",
   "execution_count": 3,
   "id": "a28d5162",
   "metadata": {},
   "outputs": [],
   "source": [
    "def surface_area(droplet):\n",
    "    \"\"\"Calculate the surface area of a lava droplet.\"\"\"\n",
    "    max_z_pos, max_y_pos, max_x_pos = np.max(droplet, axis=0) + 1\n",
    "\n",
    "    grid = np.zeros((max_z_pos, max_y_pos, max_x_pos))\n",
    "    for z_pos, y_pos, x_pos in droplet:\n",
    "        grid[z_pos, y_pos, x_pos] = 1\n",
    "\n",
    "    LOGGER.debug(\n",
    "        \"grid:\\n\"\n",
    "        \"  %s\\n\",\n",
    "        str(grid).replace(\"\\n\", \"\\n  \")\n",
    "    )\n",
    "\n",
    "    surface = 0\n",
    "    for z_pos in range(max_z_pos):\n",
    "        for y_pos in range(max_y_pos):\n",
    "            for x_pos in range(max_x_pos):\n",
    "                if grid[z_pos, y_pos, x_pos] == 0:\n",
    "                    continue\n",
    "                for delta_z, delta_y, delta_x in [\n",
    "                  (0, 0, 1), (0, 0, -1),\n",
    "                  (0, 1, 0), (0, -1, 0),\n",
    "                  (1, 0, 0), (-1, 0, 0)\n",
    "                ]:\n",
    "                    if (\n",
    "                        not (0 <= z_pos+delta_z < max_z_pos) or\n",
    "                        not (0 <= y_pos+delta_y < max_y_pos) or\n",
    "                        not (0 <= x_pos+delta_x < max_x_pos)\n",
    "                    ):\n",
    "                        surface += 1\n",
    "                    elif grid[\n",
    "                        z_pos+delta_z, y_pos+delta_y, x_pos+delta_x\n",
    "                    ] == 0:\n",
    "                        surface += 1\n",
    "    return surface"
   ]
  },
  {
   "cell_type": "code",
   "execution_count": 4,
   "id": "3107adff",
   "metadata": {},
   "outputs": [],
   "source": [
    "def main():\n",
    "    \"\"\"Main function to solve puzzle.\"\"\"\n",
    "    droplet = []\n",
    "    with open(INPUT_FILE, encoding=\"utf-8\") as file_obj:\n",
    "        for line in [line.rstrip() for line in file_obj.readlines()]:\n",
    "            x_pos, y_pos, z_pos = list(map(int, line.split(\",\")))\n",
    "            droplet.append([z_pos, y_pos, x_pos])\n",
    "\n",
    "    surface = surface_area(droplet)\n",
    "\n",
    "    print(f\"solution: {surface}\")"
   ]
  },
  {
   "cell_type": "code",
   "execution_count": 5,
   "id": "4568319b",
   "metadata": {},
   "outputs": [
    {
     "name": "stdout",
     "output_type": "stream",
     "text": [
      "solution: 64\n"
     ]
    }
   ],
   "source": [
    "if __name__ == \"__main__\":\n",
    "    LOGGER.setLevel(logging.DEBUG if SHOW_DEBUG_LOG else logging.INFO)\n",
    "    log_formatter = logging.Formatter(\"%(message)s\")\n",
    "    log_handler = logging.StreamHandler(sys.stdout)\n",
    "    log_handler.setFormatter(log_formatter)\n",
    "    LOGGER.addHandler(log_handler)\n",
    "    main()"
   ]
  }
 ],
 "metadata": {
  "kernelspec": {
   "display_name": "Python 3 (ipykernel)",
   "language": "python",
   "name": "python3"
  },
  "language_info": {
   "codemirror_mode": {
    "name": "ipython",
    "version": 3
   },
   "file_extension": ".py",
   "mimetype": "text/x-python",
   "name": "python",
   "nbconvert_exporter": "python",
   "pygments_lexer": "ipython3",
   "version": "3.9.5"
  }
 },
 "nbformat": 4,
 "nbformat_minor": 5
}
