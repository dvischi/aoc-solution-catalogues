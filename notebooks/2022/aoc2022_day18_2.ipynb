{
 "cells": [
  {
   "cell_type": "markdown",
   "id": "81358d21",
   "metadata": {},
   "source": [
    "# AOC2022"
   ]
  },
  {
   "cell_type": "markdown",
   "id": "9d447890",
   "metadata": {},
   "source": [
    "## Day 18 / Part 2 / Boiling Boulders"
   ]
  },
  {
   "cell_type": "markdown",
   "id": "32aaf5c6",
   "metadata": {},
   "source": [
    "Problem Description: https://adventofcode.com/2022/day/18#part2\n",
    "\n",
    "Input: [Example](aoc2022_day18_example.txt)"
   ]
  },
  {
   "cell_type": "code",
   "execution_count": 1,
   "id": "a75f68e9",
   "metadata": {},
   "outputs": [],
   "source": [
    "%load_ext pycodestyle_magic\n",
    "%pycodestyle_on"
   ]
  },
  {
   "cell_type": "code",
   "execution_count": 2,
   "id": "6a9a7c7a",
   "metadata": {},
   "outputs": [],
   "source": [
    "\"\"\"Solution for AOC2022, day 18, part 2.\"\"\"\n",
    "import logging\n",
    "import sys\n",
    "import numpy as np\n",
    "\n",
    "LOGGER = logging.getLogger(__name__)\n",
    "\n",
    "# show/hide debug logs\n",
    "SHOW_DEBUG_LOG = False\n",
    "# set input file\n",
    "INPUT_FILE = \"aoc2022_day18_example.txt\""
   ]
  },
  {
   "cell_type": "code",
   "execution_count": 3,
   "id": "7596b9a9",
   "metadata": {},
   "outputs": [],
   "source": [
    "def mark_grid(grid):\n",
    "    \"\"\"Mark cells of a grid exterior to the containing lava droplet.\"\"\"\n",
    "    max_z_pos, max_y_pos, max_x_pos = grid.shape\n",
    "\n",
    "    next_pos = []\n",
    "    next_pos.extend(\n",
    "      [\n",
    "          [z_pos, y_pos, 0] for z_pos, y_pos in\n",
    "          zip(range(max_z_pos), range(max_y_pos))\n",
    "      ]\n",
    "    )\n",
    "    next_pos.extend(\n",
    "      [\n",
    "          [z_pos, 0, x_pos] for z_pos, x_pos in\n",
    "          zip(range(max_z_pos), range(max_x_pos))\n",
    "      ]\n",
    "    )\n",
    "    next_pos.extend(\n",
    "      [\n",
    "          [0, y_pos, x_pos] for y_pos, x_pos in\n",
    "          zip(range(max_y_pos), range(max_x_pos))\n",
    "      ]\n",
    "    )\n",
    "    next_pos.extend(\n",
    "      [\n",
    "          [z_pos, y_pos, max_x_pos-1] for z_pos, y_pos in\n",
    "          zip(range(max_z_pos), range(max_y_pos))\n",
    "      ]\n",
    "    )\n",
    "    next_pos.extend(\n",
    "      [\n",
    "          [z_pos, max_y_pos-1, x_pos] for z_pos, x_pos in\n",
    "          zip(range(max_z_pos), range(max_x_pos))\n",
    "      ]\n",
    "    )\n",
    "    next_pos.extend(\n",
    "      [\n",
    "          [max_z_pos-1, y_pos, x_pos] for y_pos, x_pos in\n",
    "          zip(range(max_y_pos), range(max_x_pos))\n",
    "      ]\n",
    "    )\n",
    "\n",
    "    while len(next_pos) != 0:\n",
    "        z_pos, y_pos, x_pos = next_pos.pop(0)\n",
    "\n",
    "        if (\n",
    "            grid[z_pos, y_pos, x_pos] == 1 or\n",
    "            grid[z_pos, y_pos, x_pos] == 2\n",
    "        ):\n",
    "            continue\n",
    "\n",
    "        # mark cell\n",
    "        grid[z_pos, y_pos, x_pos] = 2\n",
    "\n",
    "        for delta_z, delta_y, delta_x in [\n",
    "            (0, 0, 1), (0, 0, -1),\n",
    "            (0, 1, 0), (0, -1, 0),\n",
    "            (1, 0, 0), (-1, 0, 0)\n",
    "        ]:\n",
    "            if (\n",
    "                not (0 <= z_pos+delta_z < max_z_pos) or\n",
    "                not (0 <= y_pos+delta_y < max_y_pos) or\n",
    "                not (0 <= x_pos+delta_x < max_x_pos)\n",
    "            ):\n",
    "                continue\n",
    "            next_pos.append([z_pos+delta_z, y_pos+delta_y, x_pos+delta_x])\n",
    "    return grid\n",
    "\n",
    "\n",
    "def surface_area(droplet):\n",
    "    \"\"\"Calculate the surface area of a lava droplet.\"\"\"\n",
    "    max_z_pos, max_y_pos, max_x_pos = np.max(droplet, axis=0) + 1\n",
    "\n",
    "    grid = np.zeros((max_z_pos, max_y_pos, max_x_pos))\n",
    "    for z_pos, y_pos, x_pos in droplet:\n",
    "        grid[z_pos, y_pos, x_pos] = 1\n",
    "\n",
    "    LOGGER.debug(\n",
    "        \"grid:\\n\"\n",
    "        \"  %s\\n\",\n",
    "        str(grid).replace(\"\\n\", \"\\n  \")\n",
    "    )\n",
    "\n",
    "    mark_grid(grid)\n",
    "\n",
    "    LOGGER.debug(\n",
    "        \"grid (with marks):\\n\"\n",
    "        \"  %s\\n\",\n",
    "        str(grid).replace(\"\\n\", \"\\n  \")\n",
    "    )\n",
    "\n",
    "    surface = 0\n",
    "    for z_pos in range(max_z_pos):\n",
    "        for y_pos in range(max_y_pos):\n",
    "            for x_pos in range(max_x_pos):\n",
    "                if (\n",
    "                    grid[z_pos, y_pos, x_pos] == 0 or\n",
    "                    grid[z_pos, y_pos, x_pos] == 2\n",
    "                ):\n",
    "                    continue\n",
    "                for delta_z, delta_y, delta_x in [\n",
    "                  (0, 0, 1), (0, 0, -1),\n",
    "                  (0, 1, 0), (0, -1, 0),\n",
    "                  (1, 0, 0), (-1, 0, 0)\n",
    "                ]:\n",
    "                    if (\n",
    "                        not (0 <= z_pos+delta_z < max_z_pos) or\n",
    "                        not (0 <= y_pos+delta_y < max_y_pos) or\n",
    "                        not (0 <= x_pos+delta_x < max_x_pos)\n",
    "                    ):\n",
    "                        surface += 1\n",
    "                    elif grid[\n",
    "                        z_pos+delta_z, y_pos+delta_y, x_pos+delta_x\n",
    "                    ] == 2:\n",
    "                        surface += 1\n",
    "    return surface"
   ]
  },
  {
   "cell_type": "code",
   "execution_count": 4,
   "id": "26d813fa",
   "metadata": {},
   "outputs": [],
   "source": [
    "def main():\n",
    "    \"\"\"Main function to solve puzzle.\"\"\"\n",
    "    droplet = []\n",
    "    with open(INPUT_FILE, encoding=\"utf-8\") as file_obj:\n",
    "        for line in [line.rstrip() for line in file_obj.readlines()]:\n",
    "            x_pos, y_pos, z_pos = list(map(int, line.split(\",\")))\n",
    "            droplet.append([z_pos, y_pos, x_pos])\n",
    "\n",
    "    surface = surface_area(droplet)\n",
    "\n",
    "    print(f\"solution: {surface}\")"
   ]
  },
  {
   "cell_type": "code",
   "execution_count": 5,
   "id": "1509aaaf",
   "metadata": {},
   "outputs": [
    {
     "name": "stdout",
     "output_type": "stream",
     "text": [
      "solution: 58\n"
     ]
    }
   ],
   "source": [
    "if __name__ == \"__main__\":\n",
    "    LOGGER.setLevel(logging.DEBUG if SHOW_DEBUG_LOG else logging.INFO)\n",
    "    log_formatter = logging.Formatter(\"%(message)s\")\n",
    "    log_handler = logging.StreamHandler(sys.stdout)\n",
    "    log_handler.setFormatter(log_formatter)\n",
    "    LOGGER.addHandler(log_handler)\n",
    "    main()"
   ]
  }
 ],
 "metadata": {
  "kernelspec": {
   "display_name": "Python 3 (ipykernel)",
   "language": "python",
   "name": "python3"
  },
  "language_info": {
   "codemirror_mode": {
    "name": "ipython",
    "version": 3
   },
   "file_extension": ".py",
   "mimetype": "text/x-python",
   "name": "python",
   "nbconvert_exporter": "python",
   "pygments_lexer": "ipython3",
   "version": "3.9.5"
  }
 },
 "nbformat": 4,
 "nbformat_minor": 5
}
