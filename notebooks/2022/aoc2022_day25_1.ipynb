{
 "cells": [
  {
   "cell_type": "markdown",
   "id": "81358d21",
   "metadata": {},
   "source": [
    "# AOC2022"
   ]
  },
  {
   "cell_type": "markdown",
   "id": "9d447890",
   "metadata": {},
   "source": [
    "## Day 25 / Part 1 / Full of Hot Air"
   ]
  },
  {
   "cell_type": "markdown",
   "id": "32aaf5c6",
   "metadata": {},
   "source": [
    "Problem Description: https://adventofcode.com/2022/day/25\n",
    "\n",
    "Input: [Example](aoc2022_day25_example.txt)"
   ]
  },
  {
   "cell_type": "code",
   "execution_count": 1,
   "id": "5c26f058",
   "metadata": {},
   "outputs": [],
   "source": [
    "%load_ext pycodestyle_magic\n",
    "%pycodestyle_on"
   ]
  },
  {
   "cell_type": "code",
   "execution_count": 2,
   "id": "1f554f05",
   "metadata": {},
   "outputs": [],
   "source": [
    "\"\"\"Solution for AOC2022, day 25, part 1.\"\"\"\n",
    "import logging\n",
    "import sys\n",
    "\n",
    "LOGGER = logging.getLogger(__name__)\n",
    "\n",
    "# show/hide debug logs\n",
    "SHOW_DEBUG_LOG = False\n",
    "# set input file\n",
    "INPUT_FILE = \"aoc2022_day25_example.txt\""
   ]
  },
  {
   "cell_type": "code",
   "execution_count": 3,
   "id": "ba726c81",
   "metadata": {},
   "outputs": [],
   "source": [
    "SNAFU_TO_DEC_MAP = {\n",
    "    \"=\": -2,\n",
    "    \"-\": -1,\n",
    "    \"0\": 0,\n",
    "    \"1\": 1,\n",
    "    \"2\": 2\n",
    "}\n",
    "DEC_TO_SNAFU_MAP = {\n",
    "    -2: \"=\",\n",
    "    -1: \"-\",\n",
    "    0: \"0\",\n",
    "    1: \"1\",\n",
    "    2: \"2\"\n",
    "}"
   ]
  },
  {
   "cell_type": "code",
   "execution_count": 4,
   "id": "ac347d21",
   "metadata": {},
   "outputs": [],
   "source": [
    "def snafu_sum(values):\n",
    "    \"\"\"Sum up all SNAFU numbers within values.\"\"\"\n",
    "    max_vlen = max(map(len, values))\n",
    "    for vid, value in enumerate(values):\n",
    "        values[vid] = value.zfill(max_vlen)\n",
    "\n",
    "    LOGGER.debug(\"compute sum(\\n  %s\\n)...\", \"\\n  \".join(values))\n",
    "    result = \"\"\n",
    "    carry = 0\n",
    "    for i in range(max_vlen):\n",
    "        digit_sum = carry\n",
    "        for value in values:\n",
    "            digit = value[max_vlen-1-i]\n",
    "            digit_sum += SNAFU_TO_DEC_MAP[digit]\n",
    "        reminder = digit_sum % 5\n",
    "        carry = digit_sum // 5\n",
    "        if reminder > 2:\n",
    "            carry += 1\n",
    "            reminder -= 5\n",
    "        LOGGER.debug(\n",
    "            \"  sum %s. digit: %s (%s SNAFU), carry %s\",\n",
    "            i+1, reminder, DEC_TO_SNAFU_MAP[reminder], carry\n",
    "        )\n",
    "        result = DEC_TO_SNAFU_MAP[reminder] + result\n",
    "    while carry > 0:\n",
    "        i += 1\n",
    "        reminder = carry % 5\n",
    "        carry = carry // 5\n",
    "        if reminder > 2:\n",
    "            carry += 1\n",
    "            reminder -= 5\n",
    "        LOGGER.debug(\n",
    "            \"  sum %s. digit: %s (%s SNAFU), carry %s\",\n",
    "            i+1, reminder, DEC_TO_SNAFU_MAP[reminder], carry\n",
    "        )\n",
    "        result = DEC_TO_SNAFU_MAP[reminder] + result\n",
    "\n",
    "    LOGGER.debug(\"\")\n",
    "\n",
    "    return result"
   ]
  },
  {
   "cell_type": "code",
   "execution_count": 5,
   "id": "8d0744e0",
   "metadata": {},
   "outputs": [],
   "source": [
    "def main():\n",
    "    \"\"\"Main function to solve puzzle.\"\"\"\n",
    "    snafu_values = []\n",
    "    with open(INPUT_FILE, encoding=\"utf-8\") as file_obj:\n",
    "        for line in map(lambda line: line.strip(), file_obj.readlines()):\n",
    "            snafu_values.append(line)\n",
    "    print(f\"solution: {snafu_sum(snafu_values)}\")"
   ]
  },
  {
   "cell_type": "code",
   "execution_count": 6,
   "id": "7ca5070e",
   "metadata": {},
   "outputs": [
    {
     "name": "stdout",
     "output_type": "stream",
     "text": [
      "solution: 2=-1=0\n"
     ]
    }
   ],
   "source": [
    "if __name__ == \"__main__\":\n",
    "    LOGGER.setLevel(logging.DEBUG if SHOW_DEBUG_LOG else logging.INFO)\n",
    "    log_formatter = logging.Formatter(\"%(message)s\")\n",
    "    log_handler = logging.StreamHandler(sys.stdout)\n",
    "    log_handler.setFormatter(log_formatter)\n",
    "    LOGGER.addHandler(log_handler)\n",
    "    main()"
   ]
  }
 ],
 "metadata": {
  "kernelspec": {
   "display_name": "Python 3 (ipykernel)",
   "language": "python",
   "name": "python3"
  },
  "language_info": {
   "codemirror_mode": {
    "name": "ipython",
    "version": 3
   },
   "file_extension": ".py",
   "mimetype": "text/x-python",
   "name": "python",
   "nbconvert_exporter": "python",
   "pygments_lexer": "ipython3",
   "version": "3.9.5"
  }
 },
 "nbformat": 4,
 "nbformat_minor": 5
}
