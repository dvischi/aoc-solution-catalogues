{
 "cells": [
  {
   "cell_type": "markdown",
   "id": "81358d21",
   "metadata": {},
   "source": [
    "# AOC2022"
   ]
  },
  {
   "cell_type": "markdown",
   "id": "9d447890",
   "metadata": {},
   "source": [
    "## Day 12 / Part 2 / Hill Climbing Algorithm"
   ]
  },
  {
   "cell_type": "markdown",
   "id": "32aaf5c6",
   "metadata": {},
   "source": [
    "Problem Description: https://adventofcode.com/2022/day/12#part2\n",
    "\n",
    "Input: [Example](aoc2022_day12_example.txt)"
   ]
  },
  {
   "cell_type": "markdown",
   "id": "e86baf3b",
   "metadata": {},
   "source": [
    "### Notes\n",
    "- The heightmap can simply be visualized (e.g. [here](aoc2022_day12_example.txt) or, with a text editor).\n",
    "- The possible start points can be narrow down by the following analysis:\n",
    "  - To reach E from 'a' we have to go via 'b'\n",
    "  - All 'b's are in the second column to the left (with one exception in the example input which, however, does not change the result)\n",
    "  - Hence, we only need to consider all 'a's in the first column"
   ]
  },
  {
   "cell_type": "code",
   "execution_count": 1,
   "id": "b7eb2fe4",
   "metadata": {},
   "outputs": [],
   "source": [
    "%load_ext pycodestyle_magic\n",
    "%pycodestyle_on"
   ]
  },
  {
   "cell_type": "code",
   "execution_count": 2,
   "id": "1f554f05",
   "metadata": {},
   "outputs": [],
   "source": [
    "\"\"\"Solution for AOC2022, day 12, part 2.\"\"\"\n",
    "import logging\n",
    "import sys\n",
    "from scipy.sparse import csr_matrix\n",
    "from scipy.sparse.csgraph import dijkstra\n",
    "import numpy as np\n",
    "\n",
    "LOGGER = logging.getLogger(__name__)\n",
    "\n",
    "# show/hide debug logs\n",
    "SHOW_DEBUG_LOG = False\n",
    "# set input file\n",
    "INPUT_FILE = \"aoc2022_day12_example.txt\""
   ]
  },
  {
   "cell_type": "code",
   "execution_count": 3,
   "id": "56979328",
   "metadata": {},
   "outputs": [],
   "source": [
    "def build_graph(heightmap):\n",
    "    \"\"\"\n",
    "    Build adjacency matrix from heightmap.\n",
    "\n",
    "    Every row of the adjacency matrix contains all indices of the heightmap:\n",
    "    heightmap index:           adjacency graph:\n",
    "    [  0,  1,  2,  4,          [  0, 1, 2, 3, ... 17]\n",
    "       5,  6,  7,  8,     -->     ...\n",
    "       9, 10, 11, 12,             ...\n",
    "      13, 14, 15, 16, 17]         0, 1, 2, 3, ... 17]\n",
    "    \"\"\"\n",
    "    graph = np.zeros(\n",
    "        (\n",
    "            heightmap.shape[0]*heightmap.shape[1],\n",
    "            heightmap.shape[0]*heightmap.shape[1]\n",
    "        )\n",
    "    )\n",
    "    for y_pos in range(heightmap.shape[0]):\n",
    "        for x_pos in range(heightmap.shape[1]):\n",
    "            src_height = heightmap[y_pos, x_pos]\n",
    "            for y_delta, x_delta in [(1, 0), (0, -1), (0, 1), (-1, 0)]:\n",
    "                if (\n",
    "                    (\n",
    "                        y_pos + y_delta < 0 or\n",
    "                        heightmap.shape[0] <= y_pos + y_delta\n",
    "                    ) or (\n",
    "                        x_pos + x_delta < 0 or\n",
    "                        heightmap.shape[1] <= x_pos + x_delta\n",
    "                    ) or (\n",
    "                        y_delta == x_delta == 0\n",
    "                    )\n",
    "                ):\n",
    "                    continue\n",
    "                trg_height = heightmap[y_pos+y_delta, x_pos+x_delta]\n",
    "                if trg_height <= src_height+1:\n",
    "                    graph[\n",
    "                        y_pos * heightmap.shape[1] + x_pos,\n",
    "                        (y_pos+y_delta) * heightmap.shape[1] + (x_pos+x_delta)\n",
    "                    ] = 1\n",
    "    return graph\n",
    "\n",
    "\n",
    "def reconstr_path(predecessors, end_idx, map_width):\n",
    "    \"\"\"\n",
    "    Reconstruct a path of coordinates from a map with index predecessors,\n",
    "    ending with end_idx.\n",
    "    \"\"\"\n",
    "    path = [(end_idx // map_width, end_idx % map_width)]\n",
    "    idx = end_idx\n",
    "    while idx >= 0:\n",
    "        path.append((idx // map_width, idx % map_width))\n",
    "        idx = predecessors[idx]\n",
    "    return list(reversed(path))"
   ]
  },
  {
   "cell_type": "code",
   "execution_count": 4,
   "id": "15cc4127",
   "metadata": {
    "scrolled": true
   },
   "outputs": [],
   "source": [
    "def main():\n",
    "    \"\"\"Main function to solve puzzle.\"\"\"\n",
    "    with open(INPUT_FILE, encoding=\"utf-8\") as file_obj:\n",
    "        heightmap = np.asarray(\n",
    "            [list(line.rstrip()) for line in file_obj.readlines()]\n",
    "        )\n",
    "\n",
    "        end_pos = None\n",
    "        for y_pos in range(heightmap.shape[0]):\n",
    "            for x_pos in range(heightmap.shape[1]):\n",
    "                if heightmap[y_pos, x_pos] == \"S\":\n",
    "                    heightmap[y_pos, x_pos] = \"a\"\n",
    "                elif heightmap[y_pos, x_pos] == \"E\":\n",
    "                    end_pos = (y_pos, x_pos)\n",
    "                    heightmap[y_pos, x_pos] = \"z\"\n",
    "\n",
    "        heightmap = np.asarray(\n",
    "            list(map(lambda row: [ord(cell)-97 for cell in row], heightmap))\n",
    "        )\n",
    "        graph = csr_matrix(build_graph(heightmap))\n",
    "\n",
    "    end_idx = end_pos[0] * heightmap.shape[1] + end_pos[1]\n",
    "    shortest_dist = np.inf\n",
    "    predecessors_shortest_path = None\n",
    "    # consider all positions to the left of elevation \"b\"\n",
    "    for start_idx in [\n",
    "        y_pos * heightmap.shape[1] + x_pos - 1\n",
    "        for y_pos, x_pos in zip(*np.where(heightmap == ord(\"b\")-97))\n",
    "    ]:\n",
    "        dist_matrix, predecessors = dijkstra(\n",
    "            csgraph=graph,\n",
    "            directed=True,\n",
    "            unweighted=False,\n",
    "            indices=start_idx,\n",
    "            return_predecessors=True\n",
    "        )\n",
    "\n",
    "        if dist_matrix[end_idx] < shortest_dist:\n",
    "            shortest_dist = dist_matrix[end_idx]\n",
    "            predecessors_shortest_path = predecessors\n",
    "\n",
    "    LOGGER.debug(\n",
    "        \"path %s\\n\",\n",
    "        reconstr_path(predecessors_shortest_path, end_idx, heightmap.shape[1])\n",
    "    )\n",
    "\n",
    "    print(f\"solution: {shortest_dist}\")"
   ]
  },
  {
   "cell_type": "code",
   "execution_count": 5,
   "id": "a765913d",
   "metadata": {},
   "outputs": [
    {
     "name": "stdout",
     "output_type": "stream",
     "text": [
      "solution: 29.0\n"
     ]
    }
   ],
   "source": [
    "if __name__ == \"__main__\":\n",
    "    LOGGER.setLevel(logging.DEBUG if SHOW_DEBUG_LOG else logging.INFO)\n",
    "    log_formatter = logging.Formatter(\"%(message)s\")\n",
    "    log_handler = logging.StreamHandler(sys.stdout)\n",
    "    log_handler.setFormatter(log_formatter)\n",
    "    LOGGER.addHandler(log_handler)\n",
    "    main()"
   ]
  }
 ],
 "metadata": {
  "kernelspec": {
   "display_name": "Python 3 (ipykernel)",
   "language": "python",
   "name": "python3"
  },
  "language_info": {
   "codemirror_mode": {
    "name": "ipython",
    "version": 3
   },
   "file_extension": ".py",
   "mimetype": "text/x-python",
   "name": "python",
   "nbconvert_exporter": "python",
   "pygments_lexer": "ipython3",
   "version": "3.9.5"
  }
 },
 "nbformat": 4,
 "nbformat_minor": 5
}
