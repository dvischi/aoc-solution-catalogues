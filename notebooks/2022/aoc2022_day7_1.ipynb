{
 "cells": [
  {
   "cell_type": "markdown",
   "id": "81358d21",
   "metadata": {},
   "source": [
    "# AOC2022"
   ]
  },
  {
   "cell_type": "markdown",
   "id": "9d447890",
   "metadata": {},
   "source": [
    "## Day 7 / Part 1 / No Space Left On Device"
   ]
  },
  {
   "cell_type": "markdown",
   "id": "32aaf5c6",
   "metadata": {},
   "source": [
    "Problem Description: https://adventofcode.com/2022/day/7\n",
    "\n",
    "Input: [Example](aoc2022_day7_example.txt)"
   ]
  },
  {
   "cell_type": "code",
   "execution_count": 1,
   "id": "1c23e25a",
   "metadata": {},
   "outputs": [],
   "source": [
    "%load_ext pycodestyle_magic\n",
    "%pycodestyle_on"
   ]
  },
  {
   "cell_type": "code",
   "execution_count": 2,
   "id": "1f554f05",
   "metadata": {},
   "outputs": [],
   "source": [
    "\"\"\"Solution for AOC2022, day 7, part 1.\"\"\"\n",
    "from abc import ABC\n",
    "import logging\n",
    "import os\n",
    "import re\n",
    "import sys\n",
    "\n",
    "LOGGER = logging.getLogger(__name__)\n",
    "\n",
    "# show/hide debug logs\n",
    "SHOW_DEBUG_LOG = False\n",
    "# set input file\n",
    "INPUT_FILE = \"aoc2022_day7_example.txt\""
   ]
  },
  {
   "cell_type": "code",
   "execution_count": 3,
   "id": "b727db0d",
   "metadata": {},
   "outputs": [],
   "source": [
    "DIR_MAX_SIZE = 100000"
   ]
  },
  {
   "cell_type": "code",
   "execution_count": 4,
   "id": "594f33bd",
   "metadata": {},
   "outputs": [],
   "source": [
    "class Node(ABC):\n",
    "    \"\"\"Generic node of the filesystem.\"\"\"\n",
    "    node_type = None\n",
    "    name = None\n",
    "    size = 0\n",
    "    parent = None\n",
    "    children = []\n",
    "\n",
    "    def update_size(self):\n",
    "        \"\"\"Update the size of the node.\"\"\"\n",
    "        if self.node_type == \"dir\":\n",
    "            self.size = 0\n",
    "            for child in self.children:\n",
    "                self.size += child.update_size()\n",
    "        return self.size\n",
    "\n",
    "    def find(self, max_size):\n",
    "        \"\"\"Recursively find nodes with a total size <= max_size.\"\"\"\n",
    "        if self.node_type == \"dir\" and self.size <= max_size:\n",
    "            yield self.size\n",
    "        for child in self.children:\n",
    "            yield from child.find(max_size)\n",
    "\n",
    "    def __str__(self, depth=0):\n",
    "        \"\"\"Compute the informal string representation of the node.\"\"\"\n",
    "        obj_str = \"\"\n",
    "        node_details = f\"- {self.name} ({self.node_type}, size={self.size})\"\n",
    "        obj_str = \"  \" * depth + node_details\n",
    "        for child in self.children:\n",
    "            obj_str += \"\\n\"\n",
    "            obj_str += child.__str__(depth+1)\n",
    "        return obj_str\n",
    "\n",
    "\n",
    "class Folder(Node):\n",
    "    \"\"\"Folder of the filesystem.\"\"\"\n",
    "    def __init__(self, name, parent=None, children=None):\n",
    "        self.node_type = \"dir\"\n",
    "        self.name = name\n",
    "        self.parent = parent\n",
    "        self.children = children or []\n",
    "\n",
    "\n",
    "class File(Node):\n",
    "    \"\"\"File of the filesystem.\"\"\"\n",
    "    def __init__(self, name, size, parent=None):\n",
    "        self.node_type = \"file\"\n",
    "        self.name = name\n",
    "        self.size = size\n",
    "        self.parent = parent\n",
    "        self.children = []"
   ]
  },
  {
   "cell_type": "code",
   "execution_count": 5,
   "id": "260a70f1",
   "metadata": {},
   "outputs": [],
   "source": [
    "def change_dir(path, directory):\n",
    "    \"\"\"Changes current directory.\"\"\"\n",
    "    if directory == \"/\":\n",
    "        return \"/\"\n",
    "    if directory == \"..\":\n",
    "        return os.path.normpath(os.path.join(path, \"..\")).replace(\"\\\\\", \"/\")\n",
    "    return os.path.normpath(os.path.join(path, directory)).replace(\"\\\\\", \"/\")"
   ]
  },
  {
   "cell_type": "code",
   "execution_count": 6,
   "id": "15cc4127",
   "metadata": {
    "scrolled": true
   },
   "outputs": [],
   "source": [
    "def main():\n",
    "    \"\"\"Main function to solve puzzle.\"\"\"\n",
    "    curr_path = None\n",
    "    node_map = {\"/\": Folder(\"/\")}\n",
    "    LOGGER.debug(\"traverse filesystem...\")\n",
    "    with open(INPUT_FILE, encoding=\"utf-8\") as file_obj:\n",
    "        line = file_obj.readline().rstrip()\n",
    "        while line:\n",
    "            if line.startswith(\"$ cd\"):\n",
    "                curr_path = change_dir(curr_path, line[5:])\n",
    "                LOGGER.debug(\"  %s\", curr_path)\n",
    "                if curr_path not in node_map:\n",
    "                    parent_path = os.path.dirname(curr_path)\n",
    "                    dir_name = os.path.basename(curr_path)\n",
    "                    parent_node = node_map[parent_path]\n",
    "                    curr_node = Folder(dir_name, parent_node)\n",
    "                    node_map[curr_path] = curr_node\n",
    "                    parent_node.children.append(curr_node)\n",
    "                line = file_obj.readline().rstrip()\n",
    "\n",
    "            if line.startswith(\"$ ls\"):\n",
    "                line = file_obj.readline().rstrip()\n",
    "                while line and not line.startswith(\"$\"):\n",
    "                    if line.startswith(\"dir\"):\n",
    "                        pass\n",
    "                    else:\n",
    "                        file_size, file_name = re.search(\n",
    "                            r\"(\\d+) (.+)\", line\n",
    "                        ).groups()\n",
    "                        parent_node = node_map[curr_path]\n",
    "                        file_node = File(\n",
    "                            file_name, int(file_size), parent_node\n",
    "                        )\n",
    "                        parent_node.children.append(file_node)\n",
    "                    line = file_obj.readline().rstrip()\n",
    "\n",
    "    node_map[\"/\"].update_size()\n",
    "\n",
    "    LOGGER.debug(\n",
    "        \"\\n\"\n",
    "        \"filesystem tree:\\n\"\n",
    "        \"%s\\n\",\n",
    "        node_map[\"/\"]\n",
    "    )\n",
    "\n",
    "    small_nodes = node_map[\"/\"].find(DIR_MAX_SIZE)\n",
    "    print(f\"solution: {sum(small_nodes)}\")"
   ]
  },
  {
   "cell_type": "code",
   "execution_count": 7,
   "id": "bedf826c",
   "metadata": {},
   "outputs": [
    {
     "name": "stdout",
     "output_type": "stream",
     "text": [
      "solution: 95437\n"
     ]
    }
   ],
   "source": [
    "if __name__ == \"__main__\":\n",
    "    LOGGER.setLevel(logging.DEBUG if SHOW_DEBUG_LOG else logging.INFO)\n",
    "    log_formatter = logging.Formatter(\"%(message)s\")\n",
    "    log_handler = logging.StreamHandler(sys.stdout)\n",
    "    log_handler.setFormatter(log_formatter)\n",
    "    LOGGER.addHandler(log_handler)\n",
    "    main()"
   ]
  }
 ],
 "metadata": {
  "kernelspec": {
   "display_name": "Python 3 (ipykernel)",
   "language": "python",
   "name": "python3"
  },
  "language_info": {
   "codemirror_mode": {
    "name": "ipython",
    "version": 3
   },
   "file_extension": ".py",
   "mimetype": "text/x-python",
   "name": "python",
   "nbconvert_exporter": "python",
   "pygments_lexer": "ipython3",
   "version": "3.9.5"
  }
 },
 "nbformat": 4,
 "nbformat_minor": 5
}
